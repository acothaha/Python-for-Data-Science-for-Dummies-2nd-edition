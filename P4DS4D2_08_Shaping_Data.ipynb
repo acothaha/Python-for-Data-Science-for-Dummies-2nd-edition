{
 "cells": [
  {
   "cell_type": "markdown",
   "metadata": {},
   "source": [
    "# Working with HTML Pages"
   ]
  },
  {
   "cell_type": "markdown",
   "metadata": {},
   "source": [
    "## Parsing XML and HTML"
   ]
  },
  {
   "cell_type": "code",
   "execution_count": 11,
   "metadata": {},
   "outputs": [
    {
     "name": "stdout",
     "output_type": "stream",
     "text": [
      "       Number Boolean\n",
      "First       1    True\n",
      "Second      2   False\n",
      "Third       3    True\n",
      "Fourth      4   False\n",
      "<class 'int'>\n",
      "<class 'bool'>\n"
     ]
    }
   ],
   "source": [
    "from lxml import objectify\n",
    "import pandas as pd\n",
    "from distutils import util\n",
    "\n",
    "xml = objectify.parse(open('dataset_toy/XMLData.xml'))\n",
    "root = xml.getroot()\n",
    "# creating an empty df with only 2 columns\n",
    "df = pd.DataFrame(columns=('Number', 'Boolean'))\n",
    "\n",
    "for i in range(0, 4):\n",
    "    obj = root.getchildren()[i].getchildren()\n",
    "    row = dict(zip(['Number', 'Boolean'], \n",
    "                   # make the items in the column 0 as its\n",
    "                   # original datatype, which is integer\n",
    "                   [obj[0].pyval, \n",
    "                    # change the datatype of the items in \n",
    "                    # the column 2 from str to boolean\n",
    "                    # using strtobool() in distutil.util. which will\n",
    "                    # output 0 and 1, then it will converted\n",
    "                    # into a boolean value by bool()\n",
    "                    bool(util.strtobool(obj[2].text))]))\n",
    "    row_s = pd.Series(row)\n",
    "    # assigning items in column 1 as the name of each\n",
    "    # respective row\n",
    "    row_s.name = obj[1].text\n",
    "    df = df.append(row_s)\n",
    "\n",
    "print(df)\n",
    "# checking datatype of each items in the 'First' row \n",
    "# by using loc() to locate a certain row and column\n",
    "print(type(df.loc['First']['Number']))\n",
    "print(type(df.loc['First']['Boolean']))"
   ]
  },
  {
   "cell_type": "markdown",
   "metadata": {},
   "source": [
    "## Using Xpath for data extraction "
   ]
  },
  {
   "cell_type": "code",
   "execution_count": 63,
   "metadata": {},
   "outputs": [
    {
     "name": "stdout",
     "output_type": "stream",
     "text": [
      "        Number  Boolean\n",
      "First        1     True\n",
      "Second       2    False\n",
      "Third        3     True\n",
      "Fourth       4    False\n",
      "<class 'numpy.int64'>\n",
      "<class 'numpy.bool_'>\n"
     ]
    }
   ],
   "source": [
    "from lxml import objectify\n",
    "import pandas as pd\n",
    "from distutils import util\n",
    "\n",
    "xml = objectify.parse(open('dataset_toy/XMLData.xml'))\n",
    "root = xml.getroot()\n",
    "\n",
    "# because all XML file entries are strings, use map() to convert it\n",
    "# the xpath() accept a path from the root node (Record) to the data you need\n",
    "# this one is straight-forward as it is\n",
    "map_number = map(int, root.xpath('Record/Number'))\n",
    "# convert the data into a string\n",
    "map_bool = map(str, root.xpath('Record/Boolean'))\n",
    "# convert it into a 0 and 1\n",
    "map_bool = map(util.strtobool, map_bool)\n",
    "# and, finally convert it to boolean value\n",
    "map_bool = map(bool, map_bool)\n",
    "# convert the data into string\n",
    "map_string = map(str, root.xpath('Record/String'))\n",
    "\n",
    "# pairing map_number and map_bool into a tuple\n",
    "data = list(zip(map_number, map_bool))\n",
    "\n",
    "# make a df with data as data, columns and list of map_string as index\n",
    "df = pd.DataFrame(data, \n",
    "                  columns=('Number', 'Boolean'),\n",
    "                  index = list(map_string)\n",
    "                 )\n",
    "\n",
    "print(df)\n",
    "print(type(df.loc['First']['Number']))\n",
    "print(type(df.loc['First']['Boolean']))"
   ]
  },
  {
   "cell_type": "markdown",
   "metadata": {},
   "source": [
    "# Working with Raw Text "
   ]
  },
  {
   "cell_type": "markdown",
   "metadata": {},
   "source": [
    "## Dealing with Unicode (standard encoding e.g. UTF-8) "
   ]
  },
  {
   "cell_type": "markdown",
   "metadata": {},
   "source": [
    "## Stemming and removing stop words"
   ]
  },
  {
   "cell_type": "code",
   "execution_count": 86,
   "metadata": {},
   "outputs": [
    {
     "name": "stdout",
     "output_type": "stream",
     "text": [
      "['love', 'sam', 'swim', 'time']\n",
      "[[1 0 2 1]]\n"
     ]
    }
   ],
   "source": [
    "from sklearn.feature_extraction.text import *\n",
    "from nltk import word_tokenize\n",
    "from nltk.stem.porter import PorterStemmer\n",
    "\n",
    "\n",
    "stemmer = PorterStemmer()\n",
    "\n",
    "# make a function to accept tokens and stemmer as the arguments\n",
    "def stem_tokens(tokens, stemmer):\n",
    "    # create a blank list\n",
    "    stemmed = []\n",
    "    # use a for loop\n",
    "    for i in tokens:\n",
    "        # stem the word i from tokens list\n",
    "        # and decide whether if its a \n",
    "        stemmed.append(stemmer.stem(i))\n",
    "    # returnong the stemmed list\n",
    "    return stemmed\n",
    "\n",
    "# make a fucntion to tokenize (splt the word) the text in to a list\n",
    "def tokenize(text):\n",
    "    # using word_tokenize() to split each word between a space in a text\n",
    "    tokens = word_tokenize(text)\n",
    "    # stemming the tokenized text\n",
    "    stems = stem_tokens(tokens, stemmer)\n",
    "    # return the stems\n",
    "    return stems\n",
    "\n",
    "# defining a text which later will be the vacal reference to the\n",
    "# tested sentence\n",
    "vocab = ['Sam loves swimming so he swims all the time']\n",
    "# create a countvectorizer to hold a list of stemmed words but\n",
    "# wothout the stop words\n",
    "vect = CountVectorizer(tokenizer=tokenize, stop_words='english')\n",
    "\n",
    "# fitting the vocab variable with the count vectorizer\n",
    "# and add the vocab into another countvectorizer vec\n",
    "vec = vect.fit(vocab)\n",
    "\n",
    "# using countvectorizer vec to transform a text\n",
    "sentence1 = vec.transform(['''\n",
    "                            George loves swimming too and\n",
    "                            he likes to swim in the lake\n",
    "                            at the night time\n",
    "                            !'''])\n",
    "# displaying all of the stemmed words from vec\n",
    "print(vec.get_feature_names())\n",
    "# displaying how many time a certain stemmed words from Countvectorizer\n",
    "# appears in the text\n",
    "print(sentence1.toarray())"
   ]
  },
  {
   "cell_type": "markdown",
   "metadata": {},
   "source": [
    "## Introducing regular expressions"
   ]
  },
  {
   "cell_type": "code",
   "execution_count": 2,
   "metadata": {},
   "outputs": [
    {
     "name": "stdout",
     "output_type": "stream",
     "text": [
      "('800', '555', '1212')\n",
      "('800', '555', '1234')\n"
     ]
    }
   ],
   "source": [
    "import re\n",
    "\n",
    "# the data that will be processed through a certain\n",
    "# regular expression parsing pattern\n",
    "data1 = 'My phne number is: 800-555-1212.'\n",
    "data2 = '800-555-1234 is my phone number.'\n",
    "\n",
    "# making the pattern to extract only the phone number\n",
    "pattern = re.compile(r'(\\d{3})-(\\d{3})-(\\d{4})')\n",
    "\n",
    "# applying the pattern to the data\n",
    "dmatch1 = pattern.search(data1).groups()\n",
    "dmatch2 = pattern.search(data2).groups()\n",
    "\n",
    "print(dmatch1)\n",
    "print(dmatch2)"
   ]
  },
  {
   "cell_type": "markdown",
   "metadata": {},
   "source": [
    "# Using the Bag of Words Model and Beyond"
   ]
  },
  {
   "cell_type": "markdown",
   "metadata": {},
   "source": [
    "## Understanding the bag of words model "
   ]
  },
  {
   "cell_type": "code",
   "execution_count": 36,
   "metadata": {},
   "outputs": [
    {
     "name": "stdout",
     "output_type": "stream",
     "text": [
      "['data', 'filenames', 'target_names', 'target', 'DESCR']\n",
      "Bow Shape: (2356, 34750)\n",
      "33888\n",
      "Caltech: 1\n"
     ]
    }
   ],
   "source": [
    "\n",
    "# calling fetch_20newsgroups and loading the dataset into memory\n",
    "from sklearn.datasets import fetch_20newsgroups\n",
    "from sklearn.feature_extraction.text import *\n",
    "\n",
    "# list of the newsgroups we will use to train the algorithm\n",
    "categories = ['comp.graphics', 'misc.forsale',\n",
    "              'rec.autos', 'sci.space']\n",
    "\n",
    "# using fetch_20newsgroup to make a bunch (dict-like object)\n",
    "# which is to make bag of words\n",
    "# subset='train', to determine the dataset for training set\n",
    "# categories, which categories are used\n",
    "# shuffle, whether or not shuffle the data\n",
    "# Determines random number generation for dataset shuffling\n",
    "twenty_train = fetch_20newsgroups(subset='train',\n",
    "                                 categories=categories,\n",
    "                                 shuffle=True,\n",
    "                                 random_state=42)\n",
    "\n",
    "print(list(twenty_train))\n",
    "\n",
    "# make a CountVectorizer to tokenize the data in this case words\n",
    "# (every single word that is in the text)\n",
    "count_vect = CountVectorizer()\n",
    "#  placing the resulting bag of words into X_train_counts\n",
    "X_train_counts = count_vect.fit_transform(twenty_train.data)\n",
    "\n",
    "# displaying the number of entries \n",
    "#(number of sample/documnet, number of words)\n",
    "print(\"Bow Shape:\", X_train_counts.shape)\n",
    "# finding the index of word 'caltech'\n",
    "caltech_idx = count_vect.vocabulary_['caltech']\n",
    "# displaying how many word 'caltech' appear in the first document\n",
    "print(f\"Caltech: {X_train_counts[0, caltech_idx]}\")"
   ]
  },
  {
   "cell_type": "markdown",
   "metadata": {},
   "source": [
    "## Working with n-grams "
   ]
  },
  {
   "cell_type": "code",
   "execution_count": 55,
   "metadata": {},
   "outputs": [
    {
     "name": "stdout",
     "output_type": "stream",
     "text": [
      "[' an', ' in', ' of', ' th', ' to', 'he ', 'ing', 'ion', 'nd ', 'the']\n",
      "[[0 0 2 5 1 4 2 2 0 5]]\n",
      "['anonymous ftp', 'commercial space', 'gamma ray', 'nasa gov', 'national space', 'remote sensing', 'sci space', 'space shuttle', 'space station', 'washington dc']\n"
     ]
    }
   ],
   "source": [
    "from sklearn.datasets import fetch_20newsgroups\n",
    "from sklearn.feature_extraction.text import *\n",
    "import numpy as np\n",
    "\n",
    "print(x_train_count[x_train_count>0])\n",
    "\n",
    "categories = ['sci.space']\n",
    "\n",
    "twenty_train = fetch_20newsgroups(subset='train', \n",
    "                                  categories=categories,\n",
    "                                  remove=('headers',\n",
    "                                          'footers',\n",
    "                                          'quotes'),\n",
    "                                  shuffle=True,\n",
    "                                  random_state=42)\n",
    "                              # choose an analyzer  \n",
    "count_chars = CountVectorizer(analyzer='char_wb',\n",
    "                              # set ngram-range to 3x3\n",
    "                              ngram_range=(3,3),\n",
    "                              # set the max feature that will be returned\n",
    "                              max_features=10)\n",
    "\n",
    "'''print(list(twenty_train['data']))'''\n",
    "\n",
    "\n",
    "count_chars.fit(twenty_train['data'])\n",
    "                            # choose an analyzer  \n",
    "count_words = CountVectorizer(analyzer='word',\n",
    "                              # set ngram-range to 2x2\n",
    "                              ngram_range=(2,2),\n",
    "                              # set the max feature that will be returned\n",
    "                              max_features=10,\n",
    "                              stop_words='english')\n",
    "\n",
    "count_words.fit(twenty_train['data'])\n",
    "\n",
    "X = count_chars.transform(twenty_train.data)\n",
    "\n",
    "#  showing the top ten trigrams(3x3) for characters from the document\n",
    "print(count_chars.get_feature_names())\n",
    "# It shows the frequency of the top ten trigrams in the first document\n",
    "print(X[1].todense())\n",
    "#  showing the top ten bigrams(2s2) for words from the document\n",
    "print(count_words.get_feature_names())\n",
    "\n"
   ]
  },
  {
   "cell_type": "markdown",
   "metadata": {},
   "source": [
    "## Implementing TF-IDF transformations"
   ]
  },
  {
   "cell_type": "code",
   "execution_count": 100,
   "metadata": {},
   "outputs": [
    {
     "name": "stdout",
     "output_type": "stream",
     "text": [
      "\"Caltech\" scored in a BOW(Bag of Words): \n",
      "Count:   (0, 0)\t3\n",
      "  (160, 0)\t3\n",
      "  (175, 0)\t2\n",
      "  (385, 0)\t3\n",
      "  (475, 0)\t3\n",
      "  (543, 0)\t4\n",
      "  (624, 0)\t2\n",
      "  (768, 0)\t2\n",
      "  (775, 0)\t2\n",
      "  (790, 0)\t2\n",
      "  (881, 0)\t3\n",
      "  (914, 0)\t1\n",
      "  (1049, 0)\t1\n",
      "  (1181, 0)\t4\n",
      "  (1321, 0)\t4\n",
      "  (1446, 0)\t1\n",
      "  (1456, 0)\t2\n",
      "  (1488, 0)\t2\n",
      "  (1591, 0)\t1\n",
      "  (1594, 0)\t2\n",
      "  (1664, 0)\t2\n",
      "  (1699, 0)\t2\n",
      "  (1865, 0)\t1\n",
      "  (1881, 0)\t5\n",
      "  (1925, 0)\t1\n",
      "  (1953, 0)\t2\n",
      "  (2199, 0)\t2\n",
      "  (2237, 0)\t1\n",
      "  (2322, 0)\t2\n",
      "  (2337, 0)\t2\n",
      "TF-IDF:   (0, 0)\t0.12271514186360297\n",
      "  (160, 0)\t0.17242587691544567\n",
      "  (175, 0)\t0.06027613138583139\n",
      "  (385, 0)\t0.01442628710428488\n",
      "  (475, 0)\t0.15247092091614056\n",
      "  (543, 0)\t0.3570092978244947\n",
      "  (624, 0)\t0.14661951181237493\n",
      "  (768, 0)\t0.15714749779657694\n",
      "  (775, 0)\t0.13382020773206885\n",
      "  (790, 0)\t0.14802502938764878\n",
      "  (881, 0)\t0.23383380888439048\n",
      "  (914, 0)\t0.020664372917934555\n",
      "  (1049, 0)\t0.07730701864585837\n",
      "  (1181, 0)\t0.23630966590676772\n",
      "  (1321, 0)\t0.2563368406634746\n",
      "  (1446, 0)\t0.051749310045427266\n",
      "  (1456, 0)\t0.15485459265081006\n",
      "  (1488, 0)\t0.1206393661776902\n",
      "  (1591, 0)\t0.03289209961032627\n",
      "  (1594, 0)\t0.31262673463424\n",
      "  (1664, 0)\t0.1201171304843897\n",
      "  (1699, 0)\t0.10961612863820508\n",
      "  (1865, 0)\t0.015390256801661976\n",
      "  (1881, 0)\t0.4174557422852238\n",
      "  (1925, 0)\t0.025850595354659868\n",
      "  (1953, 0)\t0.07672306103910043\n",
      "  (2199, 0)\t0.13641276088090903\n",
      "  (2237, 0)\t0.042153984421245634\n",
      "  (2322, 0)\t0.07213895579949293\n",
      "  (2337, 0)\t0.1450024702113517\n"
     ]
    }
   ],
   "source": [
    "from sklearn.datasets import fetch_20newsgroups\n",
    "from sklearn.feature_extraction.text import *\n",
    "\n",
    "categories = ['comp.graphics', 'misc.forsale', \n",
    "              'rec.autos', 'sci.space']\n",
    "\n",
    "twenty_train = fetch_20newsgroups(subset='train',\n",
    "                                  categories=categories,\n",
    "                                  shuffle=True,\n",
    "                                  random_state=42)\n",
    "\n",
    "count_vect = CountVectorizer()\n",
    "X_train_count = count_vect.fit_transform(twenty_train.data)\n",
    "\n",
    "# make matrix of TF-IDF features that fits the newsgroup\n",
    "tfidf = TfidfTransformer().fit(X_train_count)\n",
    "# the vectoried data then transform into an TF-IDF matrix(?)\n",
    "X_train_tfidf = tfidf.transform(X_train_count)\n",
    "\n",
    "caltech_idx = count_vect.vocabulary_['caltech']\n",
    "\n",
    "print('\"Caltech\" scored in a BOW(Bag of Words): ')\n",
    "# printing the word 'caltech' in all document it appeard\n",
    "print(f'Count: {X_train_count[:, caltech_idx]}')\n",
    "#printing the TF-IDF value from word 'caltech' in all document it appeared\n",
    "print(f'TF-IDF: {X_train_tfidf[:, caltech_idx]}')\n",
    "\n"
   ]
  },
  {
   "cell_type": "markdown",
   "metadata": {},
   "source": [
    "### Compute the average word count and average TF-IDF"
   ]
  },
  {
   "cell_type": "code",
   "execution_count": 99,
   "metadata": {},
   "outputs": [
    {
     "name": "stdout",
     "output_type": "stream",
     "text": [
      "mean count: 1.6980848210141517\n",
      "mean TF-IDF: 0.06439406290426991\n"
     ]
    }
   ],
   "source": [
    "import numpy as np\n",
    "\n",
    "# list all of the number of a word that appears in all of the text\n",
    "count = X_train_count[X_train_count>0]\n",
    "# list all of the value of TF-IDF of a word that appears in all of the text\n",
    "tfidf = X_train_tfidf[X_train_tfidf>0]\n",
    "\n",
    "# counting the mean of the count and tfidf matrix\n",
    "count_mean = np.mean(count)\n",
    "tfidf_mean = np.mean(tfidf)\n",
    "\n",
    "print(f'mean count: {count_mean}')\n",
    "print(f'mean TF-IDF: {tfidf_mean}')"
   ]
  },
  {
   "cell_type": "markdown",
   "metadata": {},
   "source": [
    "# Working with Graph Data "
   ]
  },
  {
   "cell_type": "markdown",
   "metadata": {},
   "source": [
    "## Understanding the adjacency matrix"
   ]
  },
  {
   "cell_type": "markdown",
   "metadata": {},
   "source": [
    "## Using NetworkX basic "
   ]
  },
  {
   "cell_type": "code",
   "execution_count": 114,
   "metadata": {},
   "outputs": [
    {
     "name": "stdout",
     "output_type": "stream",
     "text": [
      "[[0 1 0 0 0 0 0 0 0 1]\n",
      " [1 0 1 0 0 0 0 0 0 0]\n",
      " [0 1 0 1 0 0 0 0 0 0]\n",
      " [0 0 1 0 1 0 0 0 0 0]\n",
      " [0 0 0 1 0 1 0 0 0 0]\n",
      " [0 0 0 0 1 0 1 0 0 0]\n",
      " [0 0 0 0 0 1 0 1 0 0]\n",
      " [0 0 0 0 0 0 1 0 1 0]\n",
      " [0 0 0 0 0 0 0 1 0 1]\n",
      " [1 0 0 0 0 0 0 0 1 0]]\n",
      "<class 'numpy.matrix'>\n"
     ]
    }
   ],
   "source": [
    "# importing networkx\n",
    "import networkx as nx\n",
    "\n",
    "# creating a graph with 10 nodes\n",
    "G = nx.cycle_graph(10)\n",
    "# creating adjacency matrix from the graph\n",
    "A = nx.adjacency_matrix(G)\n",
    "# printing it as a matrix\n",
    "print(A.todense())"
   ]
  },
  {
   "cell_type": "markdown",
   "metadata": {},
   "source": [
    "### Show the plot of the graph "
   ]
  },
  {
   "cell_type": "code",
   "execution_count": 132,
   "metadata": {},
   "outputs": [
    {
     "data": {
      "image/png": "[encoded data removed]",
      "text/plain": [
       "<Figure size 432x288 with 1 Axes>"
      ]
     },
     "metadata": {},
     "output_type": "display_data"
    }
   ],
   "source": [
    "# importing matplotlib.pyplot\n",
    "import matplotlib.pyplot as plt\n",
    "\n",
    "# a magic funtion that makes the plot output appear and stored within the notebook\n",
    "%matplotlib inline\n",
    "\n",
    "# the necessary funtion to plot/draw the nodes and its connections\n",
    "nx.draw_networkx(G)\n",
    "plt.show()"
   ]
  },
  {
   "cell_type": "markdown",
   "metadata": {},
   "source": [
    "### Adding an edge "
   ]
  },
  {
   "cell_type": "code",
   "execution_count": 133,
   "metadata": {},
   "outputs": [
    {
     "data": {
      "image/png": "[encoded data removed]",
      "text/plain": [
       "<Figure size 432x288 with 1 Axes>"
      ]
     },
     "metadata": {},
     "output_type": "display_data"
    }
   ],
   "source": [
    "G.add_edge(1,6)\n",
    "nx.draw_networkx(G)\n",
    "plt.show()"
   ]
  },
  {
   "cell_type": "markdown",
   "metadata": {},
   "source": [
    "### removing an edge "
   ]
  },
  {
   "cell_type": "code",
   "execution_count": 137,
   "metadata": {},
   "outputs": [
    {
     "data": {
      "image/png": "[encoded data removed]",
      "text/plain": [
       "<Figure size 432x288 with 1 Axes>"
      ]
     },
     "metadata": {},
     "output_type": "display_data"
    }
   ],
   "source": [
    "G.remove_edge(1,2)\n",
    "nx.draw_networkx(G)\n",
    "plt.show()"
   ]
  }
 ],
 "metadata": {
  "kernelspec": {
   "display_name": "Python 3",
   "language": "python",
   "name": "python3"
  },
  "language_info": {
   "codemirror_mode": {
    "name": "ipython",
    "version": 3
   },
   "file_extension": ".py",
   "mimetype": "text/x-python",
   "name": "python",
   "nbconvert_exporter": "python",
   "pygments_lexer": "ipython3",
   "version": "3.7.6"
  }
 },
 "nbformat": 4,
 "nbformat_minor": 4
}
