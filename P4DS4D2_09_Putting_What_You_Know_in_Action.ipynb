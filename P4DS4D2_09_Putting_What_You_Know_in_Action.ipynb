{
 "cells": [
  {
   "cell_type": "markdown",
   "metadata": {},
   "source": [
    "# Contextualizing Problems and Data"
   ]
  },
  {
   "cell_type": "markdown",
   "metadata": {},
   "source": [
    "## Evaluating a data science problem "
   ]
  },
  {
   "cell_type": "markdown",
   "metadata": {},
   "source": [
    "## Reseaching solutions "
   ]
  },
  {
   "cell_type": "markdown",
   "metadata": {},
   "source": [
    "## Formulating a hypothesis "
   ]
  },
  {
   "cell_type": "markdown",
   "metadata": {},
   "source": [
    "## Preparing your data "
   ]
  },
  {
   "cell_type": "markdown",
   "metadata": {},
   "source": [
    "# Considering the Art of Feature Creation"
   ]
  },
  {
   "cell_type": "markdown",
   "metadata": {},
   "source": [
    "## Defining feature creation"
   ]
  },
  {
   "cell_type": "markdown",
   "metadata": {},
   "source": [
    "## Combining variables"
   ]
  },
  {
   "cell_type": "markdown",
   "metadata": {},
   "source": [
    "## Understanding binning and discretization"
   ]
  },
  {
   "cell_type": "markdown",
   "metadata": {},
   "source": [
    "## Using indicator variables"
   ]
  },
  {
   "cell_type": "markdown",
   "metadata": {},
   "source": [
    "## Transforming distributions "
   ]
  },
  {
   "cell_type": "markdown",
   "metadata": {},
   "source": [
    "# Performing Operations on Arrays "
   ]
  },
  {
   "cell_type": "markdown",
   "metadata": {},
   "source": [
    "## Using vectorization"
   ]
  },
  {
   "cell_type": "code",
   "execution_count": 29,
   "metadata": {},
   "outputs": [
    {
     "name": "stdout",
     "output_type": "stream",
     "text": [
      "(3, 7)\n",
      "[7 4 5 5 6 8 8]\n",
      "[8 7 8]\n",
      "[6 5 7]\n"
     ]
    }
   ],
   "source": [
    "import numpy as np\n",
    "# creating an 2 dimentional array with 3 x 7 as the shape\n",
    "dataset  = np.array([[2, 3, 4, 5, 6, 7, 8],\n",
    "                     [4, 3, 5, 2, 6, 7, 3],\n",
    "                     [7, 4, 3, 2, 6, 8, 1]])\n",
    "\n",
    "# printing the shape of the array\n",
    "print(dataset.shape)\n",
    "# printing the max value of each observation in respectable axis\n",
    "print(np.max(dataset, axis=0))\n",
    "print(np.max(dataset, axis=1))\n",
    "# subtract the max value with the minimmum value of each observation\n",
    "# in axis 1\n",
    "print(np.max(dataset, axis=1) - np.min(dataset, axis=1))"
   ]
  },
  {
   "cell_type": "markdown",
   "metadata": {},
   "source": [
    "## Performing simple arithmetic on vectors and matrices "
   ]
  },
  {
   "cell_type": "code",
   "execution_count": 31,
   "metadata": {},
   "outputs": [
    {
     "name": "stdout",
     "output_type": "stream",
     "text": [
      "(6,)\n",
      "[15. 20. 22. 75. 40. 35.]\n",
      "[0.15 0.2  0.22 0.75 0.4  0.35]\n"
     ]
    }
   ],
   "source": [
    "import numpy as np\n",
    "\n",
    "a = np.array([15.0, 20.0, 22.0, 75.0, 40.0, 35.0])\n",
    "\n",
    "print(a)\n",
    "# multiplying a float number with an (6, 1) array\n",
    "a *= .01\n",
    "\n",
    "print(a)"
   ]
  },
  {
   "cell_type": "markdown",
   "metadata": {},
   "source": [
    "## Performing matrix vector multiplication"
   ]
  },
  {
   "cell_type": "code",
   "execution_count": 57,
   "metadata": {},
   "outputs": [
    {
     "name": "stdout",
     "output_type": "stream",
     "text": [
      "[ 60  80 100 120]\n"
     ]
    }
   ],
   "source": [
    "import numpy as np\n",
    "# making a vector\n",
    "a = np.array([2, 4, 6, 8])\n",
    "# making a 2 dimentional matrix\n",
    "b = np.array([[1, 2, 3, 4],\n",
    "              [2, 3, 4, 5],\n",
    "              [3, 4, 5, 6],\n",
    "              [4, 5, 6, 7]])\n",
    "\n",
    "# using dot prduct multiplication\n",
    "c = np.dot(a, b)\n",
    "print(c)"
   ]
  },
  {
   "cell_type": "markdown",
   "metadata": {},
   "source": [
    "## Performing matrix multiplication "
   ]
  },
  {
   "cell_type": "code",
   "execution_count": 63,
   "metadata": {},
   "outputs": [
    {
     "name": "stdout",
     "output_type": "stream",
     "text": [
      "(2, 4)\n",
      "(4, 2)\n",
      "[[60 80]\n",
      " [50 66]]\n"
     ]
    }
   ],
   "source": [
    "import numpy as np\n",
    "# making a 2 x 4 matrix\n",
    "a = np.array([[2, 4, 6, 8], \n",
    "              [1, 3, 5, 7]])\n",
    "# making a 4 x 2 matrix\n",
    "b = np.array([[1, 2],\n",
    "              [2, 3],\n",
    "              [3, 4],\n",
    "              [4, 5]])\n",
    "\n",
    "print(a.shape)\n",
    "print(b.shape)\n",
    "c = np.dot(a, b)\n",
    "print(c)"
   ]
  }
 ],
 "metadata": {
  "kernelspec": {
   "display_name": "Python 3",
   "language": "python",
   "name": "python3"
  },
  "language_info": {
   "codemirror_mode": {
    "name": "ipython",
    "version": 3
   },
   "file_extension": ".py",
   "mimetype": "text/x-python",
   "name": "python",
   "nbconvert_exporter": "python",
   "pygments_lexer": "ipython3",
   "version": "3.7.6"
  }
 },
 "nbformat": 4,
 "nbformat_minor": 4
}
