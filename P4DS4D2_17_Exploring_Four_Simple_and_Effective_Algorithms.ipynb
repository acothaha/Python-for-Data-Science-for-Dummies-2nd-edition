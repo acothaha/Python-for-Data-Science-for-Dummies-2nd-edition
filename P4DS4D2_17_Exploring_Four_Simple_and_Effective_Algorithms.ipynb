{
 "cells": [
  {
   "cell_type": "markdown",
   "metadata": {},
   "source": [
    "# Guessing the Number: Linear Regression"
   ]
  },
  {
   "cell_type": "code",
   "execution_count": 1,
   "metadata": {},
   "outputs": [
    {
     "name": "stdout",
     "output_type": "stream",
     "text": [
      "<class 'function'>\n"
     ]
    }
   ],
   "source": [
    "print(type(lambda x: x+1))"
   ]
  },
  {
   "cell_type": "markdown",
   "metadata": {},
   "source": [
    "## » Defining the family of linear models"
   ]
  },
  {
   "cell_type": "markdown",
   "metadata": {},
   "source": [
    "## » Using more variables"
   ]
  },
  {
   "cell_type": "markdown",
   "metadata": {},
   "source": [
    "### • importing the boston dataset"
   ]
  },
  {
   "cell_type": "code",
   "execution_count": 1,
   "metadata": {},
   "outputs": [],
   "source": [
    "from sklearn.datasets import load_boston\n",
    "from sklearn.preprocessing import scale\n",
    "boston = load_boston()\n",
    "x = scale(boston.data)\n",
    "y = boston.target"
   ]
  },
  {
   "cell_type": "markdown",
   "metadata": {},
   "source": [
    "### • importing LinearRegression Class"
   ]
  },
  {
   "cell_type": "code",
   "execution_count": 2,
   "metadata": {},
   "outputs": [
    {
     "data": {
      "text/plain": [
       "LinearRegression(copy_X=True, fit_intercept=True, n_jobs=None, normalize=True)"
      ]
     },
     "execution_count": 2,
     "metadata": {},
     "output_type": "execute_result"
    }
   ],
   "source": [
    "from sklearn.linear_model import LinearRegression\n",
    "# normalize para. will normalize regressor (x) before regression\n",
    "regression = LinearRegression(normalize=True)\n",
    "regression.fit(x, y)"
   ]
  },
  {
   "cell_type": "markdown",
   "metadata": {},
   "source": [
    "### • calculating the model score (R^2)"
   ]
  },
  {
   "cell_type": "code",
   "execution_count": 3,
   "metadata": {},
   "outputs": [
    {
     "name": "stdout",
     "output_type": "stream",
     "text": [
      "0.7406426641094095\n"
     ]
    }
   ],
   "source": [
    "print(regression.score(x, y))"
   ]
  },
  {
   "cell_type": "markdown",
   "metadata": {},
   "source": [
    "### • showing the coefficients"
   ]
  },
  {
   "cell_type": "code",
   "execution_count": 4,
   "metadata": {},
   "outputs": [
    {
     "name": "stdout",
     "output_type": "stream",
     "text": [
      "['CRIM:-0.93', 'ZN:1.08', 'INDUS:0.14', 'CHAS:0.68', 'NOX:-2.06', 'RM:2.67', 'AGE:0.02', 'DIS:-3.1', 'RAD:2.66', 'TAX:-2.08', 'PTRATIO:-2.06', 'B:0.85', 'LSTAT:-3.74']\n"
     ]
    }
   ],
   "source": [
    "print([a + ':' + str(round(b, 2)) for a, b in zip(\n",
    "    boston.feature_names, regression.coef_)])"
   ]
  },
  {
   "cell_type": "markdown",
   "metadata": {},
   "source": [
    "## » Understanding limitations and problems"
   ]
  },
  {
   "cell_type": "markdown",
   "metadata": {},
   "source": [
    "# Moving to Logistic Regression"
   ]
  },
  {
   "cell_type": "markdown",
   "metadata": {},
   "source": [
    "## » Applying logistic regression"
   ]
  },
  {
   "cell_type": "markdown",
   "metadata": {},
   "source": [
    "### • importing Iris datasets"
   ]
  },
  {
   "cell_type": "code",
   "execution_count": 43,
   "metadata": {},
   "outputs": [],
   "source": [
    "from sklearn.datasets import load_iris\n",
    "import pandas as pd\n",
    "iris = load_iris()\n",
    "# exclude one entry to be tested by the model\n",
    "x = iris.data[:-1,:]\n",
    "y = iris.target[:-1]"
   ]
  },
  {
   "cell_type": "markdown",
   "metadata": {},
   "source": [
    "### • Using the LogisticRegression algorithm"
   ]
  },
  {
   "cell_type": "code",
   "execution_count": 48,
   "metadata": {},
   "outputs": [
    {
     "name": "stdout",
     "output_type": "stream",
     "text": [
      "Predicted class [2]\n",
      "Real class 2\n",
      "Probabilities for each class from 0 to 2:\n",
      "[[4.89083792e-04 2.45507030e-01 7.54003886e-01]]\n"
     ]
    }
   ],
   "source": [
    "from sklearn.linear_model import LogisticRegression\n",
    "logistic = LogisticRegression()\n",
    "logistic.fit(x, y)\n",
    "# assign the class prediction of the excluded entry\n",
    "# reshape() is only to make the shape of the return right\n",
    "single_row_pred = logistic.predict(\n",
    "    iris.data[-1, :].reshape(1, -1))\n",
    "# assign each class prob. based on the model from the excluded entry\n",
    "single_row_pred_prob = logistic.predict_proba(\n",
    "    iris.data[-1, :].reshape(1, -1))\n",
    "print(f'Predicted class {single_row_pred}')\n",
    "print(f'Real class {iris.target[-1]}')\n",
    "print('Probabilities for each class from 0 to 2:')\n",
    "print((single_row_pred_prob))"
   ]
  },
  {
   "cell_type": "markdown",
   "metadata": {},
   "source": [
    "## » Considering when classes are more"
   ]
  },
  {
   "cell_type": "markdown",
   "metadata": {},
   "source": [
    "### • Loading data and placing it into variables"
   ]
  },
  {
   "cell_type": "code",
   "execution_count": 49,
   "metadata": {},
   "outputs": [],
   "source": [
    "from sklearn.datasets import load_digits\n",
    "digits = load_digits()\n",
    "# splits the data into train data and test data\n",
    "train = range(0, 1700)\n",
    "test = range(1700, len(digits.data))\n",
    "# creates train data and test data\n",
    "x = digits.data[train]\n",
    "y = digits.target[train]\n",
    "tx = digits.data[test]\n",
    "ty = digits.target[test]"
   ]
  },
  {
   "cell_type": "markdown",
   "metadata": {},
   "source": [
    "### • applying 2 class prediction strategies into logistic regression algorithm"
   ]
  },
  {
   "cell_type": "code",
   "execution_count": 52,
   "metadata": {},
   "outputs": [
    {
     "name": "stdout",
     "output_type": "stream",
     "text": [
      "One Vs Rest accuracy: 0.959\n",
      "One Vs One accuracy: 0.979\n",
      "logre accuracy: 0.979\n"
     ]
    }
   ],
   "source": [
    "from sklearn.multiclass import OneVsRestClassifier\n",
    "from sklearn.multiclass import OneVsOneClassifier\n",
    "# applying the multiclass classifiers to the train data\n",
    "# max_iter para. used because the default max_iter is not\n",
    "# enough\n",
    "OVR = OneVsRestClassifier(LogisticRegression(max_iter=1000)).fit(x, y)\n",
    "OVO = OneVsOneClassifier(LogisticRegression(max_iter=1000)).fit(x, y)\n",
    "print(f'One Vs Rest accuracy: {OVR.score(tx, ty):.3f}')\n",
    "print(f'One Vs One accuracy: {OVO.score(tx, ty):.3f}')"
   ]
  },
  {
   "cell_type": "markdown",
   "metadata": {},
   "source": [
    "# Making Things as Simple as Naïve Bayes "
   ]
  },
  {
   "cell_type": "markdown",
   "metadata": {},
   "source": [
    "## » Finding out that Naïve Bayes isn't so naïve"
   ]
  },
  {
   "cell_type": "markdown",
   "metadata": {},
   "source": [
    "## » Predicting text classifications"
   ]
  },
  {
   "cell_type": "markdown",
   "metadata": {},
   "source": [
    "### • Importing 20newsgroups dataset"
   ]
  },
  {
   "cell_type": "code",
   "execution_count": 9,
   "metadata": {},
   "outputs": [],
   "source": [
    "from sklearn.datasets import fetch_20newsgroups\n",
    "# imports the newsgroups dataset with its subset\n",
    "# for training and testing\n",
    "newsgroups_train = fetch_20newsgroups(subset='train', \n",
    "                                      remove=('headers', 'footers',\n",
    "                                              'quotes'))\n",
    "newsgroups_test = fetch_20newsgroups(subset='test', \n",
    "                                     remove=('headers', 'footers',\n",
    "                                             'quotes'))"
   ]
  },
  {
   "cell_type": "markdown",
   "metadata": {},
   "source": [
    "### • Importing the 2 the two Naïve Bayes models and instantiate (assign) them"
   ]
  },
  {
   "cell_type": "code",
   "execution_count": 10,
   "metadata": {},
   "outputs": [],
   "source": [
    "from sklearn.naive_bayes import BernoulliNB, MultinomialNB\n",
    "# instantiates the naive bayes model\n",
    "# alpha para. used to ensure there will be\n",
    "# no zero probabolities for rare features\n",
    "Bernoulli = BernoulliNB(alpha=0.01)\n",
    "Multinomial = MultinomialNB(alpha=0.01)"
   ]
  },
  {
   "cell_type": "markdown",
   "metadata": {},
   "source": [
    "### • using hashing trick to prevent encountering new words"
   ]
  },
  {
   "cell_type": "code",
   "execution_count": 11,
   "metadata": {},
   "outputs": [],
   "source": [
    "import sklearn.feature_extraction.text as txt\n",
    "# using hashing trick to model the data so it fits\n",
    "# with the niave bayes model\n",
    "multinomial = txt.HashingVectorizer(stop_words='english',\n",
    "                                    binary=False, norm=None)\n",
    "binary = txt.HashingVectorizer(stop_words='english',\n",
    "                                    binary=True, norm=None)"
   ]
  },
  {
   "cell_type": "markdown",
   "metadata": {},
   "source": [
    "### • training the 2 classifiers and test them"
   ]
  },
  {
   "cell_type": "code",
   "execution_count": 12,
   "metadata": {},
   "outputs": [
    {
     "name": "stdout",
     "output_type": "stream",
     "text": [
      "Accuracy for BernoulliNB: 0.570\n",
      "Accuracy for MultinomialNB: 0.651\n"
     ]
    }
   ],
   "source": [
    "import numpy as np\n",
    "from sklearn.metrics import accuracy_score\n",
    "# seperates the train and test data\n",
    "data = newsgroups_train.data\n",
    "data_test = newsgroups_test.data\n",
    "target = newsgroups_train.target\n",
    "target_test = newsgroups_test.target\n",
    "# applies the hashing trick to the data\n",
    "# np.abs is used because some of the data is negative\n",
    "multi_x = np.abs(multinomial.transform(data))\n",
    "multi_xt = np.abs(multinomial.transform(data_test))\n",
    "bin_x = binary.transform(data)\n",
    "bin_xt = binary.transform(data_test)\n",
    "# fits the model into the data and its target\n",
    "Multinomial.fit(multi_x, target)\n",
    "Bernoulli.fit(bin_x, target)\n",
    "\n",
    "# makes a for loop to print the accuracy of each\n",
    "# Naive bayes model\n",
    "for name, model, data in [('BernoulliNB', Bernoulli, bin_xt),\n",
    "                         ('MultinomialNB', Multinomial, multi_xt)]:\n",
    "    accuracy = accuracy_score(y_true=target_test,\n",
    "                              y_pred=model.predict(data))\n",
    "    print(f'Accuracy for {name}: {accuracy:.3f}')"
   ]
  },
  {
   "cell_type": "markdown",
   "metadata": {},
   "source": [
    "### • revealing useful text statistics"
   ]
  },
  {
   "cell_type": "code",
   "execution_count": 13,
   "metadata": {},
   "outputs": [
    {
     "name": "stdout",
     "output_type": "stream",
     "text": [
      "Number of posts in training: 11314\n",
      "Number of distinct words in training 300972\n",
      "Number of post in the test: 7532\n"
     ]
    }
   ],
   "source": [
    "print(f'Number of posts in training: {len(newsgroups_train.data)}')\n",
    "# makes a dictionary which consist of of a key word and its value\n",
    "# generate by the for loop to distinct every word in the post (data)\n",
    "# by split(), and will return True for every word found\n",
    "D = {word:True for post in newsgroups_train.data for word in post.split(' ')}\n",
    "print(f'Number of distinct words in training {len(D)}')\n",
    "print(f'Number of post in the test: {len(newsgroups_test.data)}')"
   ]
  },
  {
   "cell_type": "markdown",
   "metadata": {},
   "source": [
    "# Learning Lazily with Nearest Neighbors"
   ]
  },
  {
   "cell_type": "markdown",
   "metadata": {},
   "source": [
    "## » Predictiong after observing neighbors"
   ]
  },
  {
   "cell_type": "markdown",
   "metadata": {},
   "source": [
    "### • using KNN on digit dataset"
   ]
  },
  {
   "cell_type": "code",
   "execution_count": 54,
   "metadata": {},
   "outputs": [
    {
     "name": "stdout",
     "output_type": "stream",
     "text": [
      "0.933306273534615\n"
     ]
    }
   ],
   "source": [
    "from sklearn.datasets import load_digits\n",
    "from sklearn.decomposition import PCA\n",
    "digits = load_digits()\n",
    "train = range(0, 1700)\n",
    "test = range(1700, len(digits.data))\n",
    "# uses PCA to decrease the dimentionality\n",
    "# with 25 components\n",
    "pca = PCA(n_components = 25)\n",
    "# fits PCA to the train data\n",
    "pca.fit(digits.data[train])\n",
    "var_ratio = pca.explained_variance_ratio_\n",
    "print(sum(var_ratio))\n",
    "\n",
    "# transforms each data train and test with PCA\n",
    "x = pca.transform(digits.data[train])\n",
    "y = digits.target[train]\n",
    "tx = pca.transform(digits.data[test])\n",
    "ty = digits.target[test]"
   ]
  },
  {
   "cell_type": "markdown",
   "metadata": {},
   "source": [
    "### • performing KNN algorithm "
   ]
  },
  {
   "cell_type": "code",
   "execution_count": 55,
   "metadata": {},
   "outputs": [],
   "source": [
    "from sklearn.neighbors import KNeighborsClassifier\n",
    "# n_neighbors para is the k that will be explain later\n",
    "# p para. is the distance measure method used\n",
    "kNN = KNeighborsClassifier(n_neighbors=5, p=2)\n",
    "kNN.fit(x, y);"
   ]
  },
  {
   "cell_type": "markdown",
   "metadata": {},
   "source": [
    "### • evaluating the result"
   ]
  },
  {
   "cell_type": "code",
   "execution_count": 56,
   "metadata": {},
   "outputs": [
    {
     "name": "stdout",
     "output_type": "stream",
     "text": [
      "Accuracy: 0.990\n",
      "Prediction : [2 2 5 7 9 5 4 8 1 4 9 0 8 9 8]\n",
      "Actual     : [2 2 5 7 9 5 4 8 8 4 9 0 8 9 8]\n"
     ]
    }
   ],
   "source": [
    "print(f'Accuracy: {kNN.score(tx, ty):.3f}')\n",
    "print(f'Prediction : {kNN.predict(tx[-15:,:])}')\n",
    "print(f'Actual     : {ty[-15:]}')"
   ]
  },
  {
   "cell_type": "markdown",
   "metadata": {},
   "source": [
    "## Choosing your k parameter wisely "
   ]
  },
  {
   "cell_type": "markdown",
   "metadata": {},
   "source": [
    "### • Experimenting with k value"
   ]
  },
  {
   "cell_type": "code",
   "execution_count": 57,
   "metadata": {},
   "outputs": [
    {
     "name": "stdout",
     "output_type": "stream",
     "text": [
      "For k = 1 accuracy is 0.979\n",
      "For k = 5 accuracy is 0.990\n",
      "For k = 10 accuracy is 0.969\n",
      "For k = 50 accuracy is 0.959\n",
      "For k = 100 accuracy is 0.959\n",
      "For k = 200 accuracy is 0.907\n"
     ]
    }
   ],
   "source": [
    "for k in [1, 5, 10, 50, 100, 200]:\n",
    "    # tries different values for k\n",
    "    kNN = KNeighborsClassifier(n_neighbors=k).fit(x, y)\n",
    "    print(f'For k = {k} accuracy is {kNN.score(tx, ty):.3f}')"
   ]
  }
 ],
 "metadata": {
  "kernelspec": {
   "display_name": "Python 3",
   "language": "python",
   "name": "python3"
  },
  "language_info": {
   "codemirror_mode": {
    "name": "ipython",
    "version": 3
   },
   "file_extension": ".py",
   "mimetype": "text/x-python",
   "name": "python",
   "nbconvert_exporter": "python",
   "pygments_lexer": "ipython3",
   "version": "3.7.6"
  }
 },
 "nbformat": 4,
 "nbformat_minor": 4
}
