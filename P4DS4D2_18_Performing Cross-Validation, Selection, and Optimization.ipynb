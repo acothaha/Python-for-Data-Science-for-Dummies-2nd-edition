{
 "cells": [
  {
   "cell_type": "markdown",
   "metadata": {},
   "source": [
    "# Pondering the Problem of Fitting a Model"
   ]
  },
  {
   "cell_type": "markdown",
   "metadata": {},
   "source": [
    "## » Understanding bias and variance"
   ]
  },
  {
   "cell_type": "markdown",
   "metadata": {},
   "source": [
    "## » Defining a strategy for picking models"
   ]
  },
  {
   "cell_type": "markdown",
   "metadata": {},
   "source": [
    "## » Dividing between training and test sets"
   ]
  },
  {
   "cell_type": "markdown",
   "metadata": {},
   "source": [
    "### • loading the Boston dataset "
   ]
  },
  {
   "cell_type": "code",
   "execution_count": 1,
   "metadata": {},
   "outputs": [
    {
     "name": "stdout",
     "output_type": "stream",
     "text": [
      "<class 'pandas.core.frame.DataFrame'>\n",
      "RangeIndex: 506 entries, 0 to 505\n",
      "Data columns (total 13 columns):\n",
      " #   Column   Non-Null Count  Dtype  \n",
      "---  ------   --------------  -----  \n",
      " 0   CRIM     506 non-null    float64\n",
      " 1   ZN       506 non-null    float64\n",
      " 2   INDUS    506 non-null    float64\n",
      " 3   CHAS     506 non-null    float64\n",
      " 4   NOX      506 non-null    float64\n",
      " 5   RM       506 non-null    float64\n",
      " 6   AGE      506 non-null    float64\n",
      " 7   DIS      506 non-null    float64\n",
      " 8   RAD      506 non-null    float64\n",
      " 9   TAX      506 non-null    float64\n",
      " 10  PTRATIO  506 non-null    float64\n",
      " 11  B        506 non-null    float64\n",
      " 12  LSTAT    506 non-null    float64\n",
      "dtypes: float64(13)\n",
      "memory usage: 51.5 KB\n"
     ]
    }
   ],
   "source": [
    "import pandas as pd\n",
    "from sklearn.datasets import load_boston\n",
    "boston = load_boston()\n",
    "x, y = boston.data, boston.target\n",
    "# showing the information of the data\n",
    "pd.DataFrame(x, columns=boston.feature_names).info()"
   ]
  },
  {
   "cell_type": "markdown",
   "metadata": {},
   "source": [
    "### • using linear regression (algorithm) and mean squared error (optimizer)"
   ]
  },
  {
   "cell_type": "code",
   "execution_count": 2,
   "metadata": {},
   "outputs": [
    {
     "name": "stdout",
     "output_type": "stream",
     "text": [
      "Mean squared error: 21.89\n"
     ]
    }
   ],
   "source": [
    "from sklearn.linear_model import LinearRegression\n",
    "from sklearn.metrics import mean_squared_error\n",
    "regression = LinearRegression()\n",
    "regression.fit(x, y)\n",
    "# calculates the error using mean squared error\n",
    "optimizer = mean_squared_error(y_true=y, y_pred=regression.predict(x))\n",
    "print(f'Mean squared error: {optimizer:0.2f}')"
   ]
  },
  {
   "cell_type": "markdown",
   "metadata": {},
   "source": [
    "### • seperating data train and data test"
   ]
  },
  {
   "cell_type": "code",
   "execution_count": 3,
   "metadata": {},
   "outputs": [
    {
     "name": "stdout",
     "output_type": "stream",
     "text": [
      "(354, 13) (152, 13)\n"
     ]
    }
   ],
   "source": [
    "from sklearn.model_selection import train_test_split\n",
    "# assigns the data train and test to the respective variables\n",
    "# test_size determines the size of the data test from the original data\n",
    "x_train, x_test, y_train, y_test = train_test_split(\n",
    "    x, y, test_size=0.3, random_state=5)\n",
    "\n",
    "print(x_train.shape, x_test.shape)"
   ]
  },
  {
   "cell_type": "markdown",
   "metadata": {},
   "source": [
    "### • training the regression model with data train"
   ]
  },
  {
   "cell_type": "code",
   "execution_count": 4,
   "metadata": {},
   "outputs": [
    {
     "name": "stdout",
     "output_type": "stream",
     "text": [
      "Train mean squared error: 19.068341850927226\n"
     ]
    }
   ],
   "source": [
    "regression.fit(x_train, y_train)\n",
    "print(f'''Train mean squared error: {mean_squared_error(\n",
    "      y_true=y_train, y_pred=regression.predict(x_train))}''')"
   ]
  },
  {
   "cell_type": "markdown",
   "metadata": {},
   "source": [
    "### • testing the model with the data test"
   ]
  },
  {
   "cell_type": "code",
   "execution_count": 5,
   "metadata": {},
   "outputs": [
    {
     "name": "stdout",
     "output_type": "stream",
     "text": [
      "Test mean squared error: 30.69703770408852\n"
     ]
    }
   ],
   "source": [
    "print(f'''Test mean squared error: {mean_squared_error(\n",
    "     y_true=y_test, y_pred=regression.predict(x_test))}''')"
   ]
  },
  {
   "cell_type": "markdown",
   "metadata": {},
   "source": [
    "### • changing some parameter to change the test result"
   ]
  },
  {
   "cell_type": "code",
   "execution_count": 6,
   "metadata": {},
   "outputs": [
    {
     "name": "stdout",
     "output_type": "stream",
     "text": [
      "Train mean squared error: 20.990631675966558\n",
      "Test mean squared error: 25.65683332692814\n"
     ]
    }
   ],
   "source": [
    "# changes the test_size into 25 and random_state into 6\n",
    "x_train, x_test, y_train, y_test = train_test_split(\n",
    "    x, y, test_size=0.25, random_state=6)\n",
    "\n",
    "regression.fit(x_train, y_train)\n",
    "\n",
    "print(f'''Train mean squared error: {mean_squared_error(\n",
    "      y_true=y_train, y_pred=regression.predict(x_train))}''')\n",
    "print(f'''Test mean squared error: {mean_squared_error(\n",
    "     y_true=y_test, y_pred=regression.predict(x_test))}''')"
   ]
  },
  {
   "cell_type": "markdown",
   "metadata": {},
   "source": [
    "# Cross-Validating"
   ]
  },
  {
   "cell_type": "markdown",
   "metadata": {},
   "source": [
    "## » Using cross-validation on k folds"
   ]
  },
  {
   "cell_type": "markdown",
   "metadata": {},
   "source": [
    "### • Executing cross-validation technique"
   ]
  },
  {
   "cell_type": "code",
   "execution_count": 7,
   "metadata": {},
   "outputs": [
    {
     "name": "stdout",
     "output_type": "stream",
     "text": [
      "Folds:10\n",
      "Mean squared error: 23.87\n",
      "std: 8.06\n"
     ]
    }
   ],
   "source": [
    "from sklearn.model_selection import cross_val_score, KFold\n",
    "import numpy as np\n",
    "# initializes an iterator with KFold\n",
    "# n_splits determines the number of folds\n",
    "# shuffle determine whether you want to shuffle the data\n",
    "iterator = KFold(n_splits=10, shuffle=True, random_state=3)\n",
    "# assigns the score of each folds from cross-validation\n",
    "# 1st para. determines the algorithm used\n",
    "# 2nd para. is the data used to train\n",
    "# 3rd para. is the target used to train\n",
    "# scoring determines which type of scoring to be used\n",
    "# cv determines the iterator used\n",
    "# n_jobs determines how many cores used in the process\n",
    "scores = cross_val_score(regression, x, y, \n",
    "                         scoring='neg_mean_squared_error',\n",
    "                         cv=iterator, n_jobs=1)\n",
    "\n",
    "# prints the mean and std of the scores from the cross-validation\n",
    "# procedures\n",
    "print(f'''Folds:{len(scores)}\n",
    "Mean squared error: {np.mean(np.abs(scores)):.2f}\n",
    "std: {np.std(scores):.2f}''')"
   ]
  },
  {
   "cell_type": "markdown",
   "metadata": {},
   "source": [
    "## » Sampling stratifications by complex data"
   ]
  },
  {
   "cell_type": "markdown",
   "metadata": {},
   "source": [
    "### • illustrates the effect of a certain characteristic in complex data in respect with random sampling"
   ]
  },
  {
   "cell_type": "code",
   "execution_count": 8,
   "metadata": {},
   "outputs": [
    {
     "data": {
      "image/png": "[encoded data removed]",
      "text/plain": [
       "<Figure size 432x288 with 1 Axes>"
      ]
     },
     "metadata": {
      "needs_background": "light"
     },
     "output_type": "display_data"
    }
   ],
   "source": [
    "%matplotlib inline\n",
    "import pandas as pd\n",
    "df = pd.DataFrame(x, columns=boston.feature_names)\n",
    "# assigns values in feature target to y\n",
    "df['target'] = y\n",
    "# plots a boxplots to shows the difference between a binary value\n",
    "# in feature CHAS in respect to the target\n",
    "df.boxplot('target', by='CHAS', return_type='axes');"
   ]
  },
  {
   "cell_type": "markdown",
   "metadata": {},
   "source": [
    "## • using StratifiedKFold to control the random sampling used by KFold to build the folds"
   ]
  },
  {
   "cell_type": "code",
   "execution_count": 9,
   "metadata": {},
   "outputs": [
    {
     "name": "stdout",
     "output_type": "stream",
     "text": [
      "Folds: 3\n",
      "Mean squared error: 24.29\n",
      "std: 3.99\n"
     ]
    }
   ],
   "source": [
    "from sklearn.model_selection import StratifiedShuffleSplit\n",
    "from sklearn.metrics import mean_squared_error\n",
    "# initializes an iterator with StratifiedKFold\n",
    "# using 3 folds with the size of 35% of the original dataset\n",
    "strata = StratifiedShuffleSplit(n_splits=3, test_size=.35, \n",
    "                                random_state=0)\n",
    "scores = list()\n",
    "# uses for loop to assign the return of the iterator\n",
    "# the parameters used in the iterator strata is \n",
    "# 1st : the data used\n",
    "# 2nd (x[:,3]) : the variable you want to control, in this case\n",
    "# all of the obsevations in \"CHAS\" feature\n",
    "for train_index, test_index in strata.split(x, x[:,3]):\n",
    "    # assign all of the index to its respective data\n",
    "    x_train, x_test = x[train_index], x[test_index]\n",
    "    y_train, y_test = y[train_index], y[test_index]\n",
    "    regression.fit(x_train, y_train)\n",
    "    errors = mean_squared_error(y_true=y_test, \n",
    "                                y_pred=regression.predict(x_test))\n",
    "    scores.append(errors)\n",
    "    \n",
    "print(f'''Folds: {len(scores)}\n",
    "Mean squared error: {np.mean(np.abs(scores)):.2f}\n",
    "std: {np.std(scores):.2f}''')"
   ]
  },
  {
   "cell_type": "markdown",
   "metadata": {},
   "source": [
    "# Selecting Variables Like a Pro"
   ]
  },
  {
   "cell_type": "markdown",
   "metadata": {},
   "source": [
    "## » Selecting by univariate measures"
   ]
  },
  {
   "cell_type": "markdown",
   "metadata": {},
   "source": [
    "### • trying SelectPercentile with f_regression as its metric"
   ]
  },
  {
   "cell_type": "code",
   "execution_count": 10,
   "metadata": {},
   "outputs": [
    {
     "data": {
      "text/plain": [
       "13"
      ]
     },
     "execution_count": 10,
     "metadata": {},
     "output_type": "execute_result"
    }
   ],
   "source": [
    "len(boston.feature_names)"
   ]
  },
  {
   "cell_type": "code",
   "execution_count": 11,
   "metadata": {},
   "outputs": [
    {
     "name": "stdout",
     "output_type": "stream",
     "text": [
      "F-score: 89.49 for feature CRIM\n",
      "F-score: 75.26 for feature ZN\n",
      "F-score: 153.95 for feature INDUS\n",
      "F-score: 15.97 for feature CHAS\n",
      "F-score: 112.59 for feature NOX\n",
      "F-score: 471.85 for feature RM\n",
      "F-score: 83.48 for feature AGE\n",
      "F-score: 33.58 for feature DIS\n",
      "F-score: 85.91 for feature RAD\n",
      "F-score: 141.76 for feature TAX\n",
      "F-score: 175.11 for feature PTRATIO\n",
      "F-score: 63.05 for feature B\n",
      "F-score: 601.62 for feature LSTAT\n"
     ]
    }
   ],
   "source": [
    "from sklearn.feature_selection import SelectPercentile\n",
    "from sklearn.feature_selection import f_regression\n",
    "# using SelectPercentile as the variables selector\n",
    "# 1st para. is the metrics for association used\n",
    "# 2nd para. is percent of features to keep as a sample\n",
    "selector_f = SelectPercentile(f_regression, percentile=25)\n",
    "selector_f.fit(x, y)\n",
    "for n, s in zip(boston.feature_names, selector_f.scores_):\n",
    "    print(f'F-score: {s:.2f} for feature {n}')"
   ]
  },
  {
   "cell_type": "markdown",
   "metadata": {},
   "source": [
    "## » Using a greedy search"
   ]
  },
  {
   "cell_type": "markdown",
   "metadata": {},
   "source": [
    "### • trying greedy search method using RFECV class "
   ]
  },
  {
   "cell_type": "code",
   "execution_count": 12,
   "metadata": {},
   "outputs": [
    {
     "name": "stdout",
     "output_type": "stream",
     "text": [
      "Optimal number of features: 6\n"
     ]
    }
   ],
   "source": [
    "from sklearn.feature_selection import RFECV\n",
    "# estimator para. determines the method of fitting\n",
    "# cv para. determines kind of cross validating used,\n",
    "# but in this care, the uses of integer mean how many the folds used\n",
    "# scoring para. determines the scoring method to calculate the error\n",
    "selector = RFECV(estimator=regression,\n",
    "                 cv=10,\n",
    "                 scoring='neg_mean_squared_error')\n",
    "selector.fit(x, y)\n",
    "print(f'Optimal number of features: {selector.n_features_}')"
   ]
  },
  {
   "cell_type": "markdown",
   "metadata": {},
   "source": [
    "### • obtaining the index of variables from the reduced set and showing it"
   ]
  },
  {
   "cell_type": "code",
   "execution_count": 13,
   "metadata": {},
   "outputs": [
    {
     "name": "stdout",
     "output_type": "stream",
     "text": [
      "['CHAS' 'NOX' 'RM' 'DIS' 'PTRATIO' 'LSTAT']\n"
     ]
    }
   ],
   "source": [
    "# selector.support_ will return the index of the variables\n",
    "print(boston.feature_names[selector.support_])"
   ]
  },
  {
   "cell_type": "markdown",
   "metadata": {},
   "source": [
    "# Pumping Up Your Hyperparameters "
   ]
  },
  {
   "cell_type": "markdown",
   "metadata": {},
   "source": [
    "### • loading iris dataset"
   ]
  },
  {
   "cell_type": "code",
   "execution_count": 14,
   "metadata": {},
   "outputs": [],
   "source": [
    "import numpy as np\n",
    "from sklearn.datasets import load_iris\n",
    "iris = load_iris()\n",
    "x_iris, y_iris = iris.data, iris.target"
   ]
  },
  {
   "cell_type": "markdown",
   "metadata": {},
   "source": [
    "## » Implementing a grid search"
   ]
  },
  {
   "cell_type": "markdown",
   "metadata": {},
   "source": [
    "### • using KNN classifier as an example"
   ]
  },
  {
   "cell_type": "code",
   "execution_count": 15,
   "metadata": {},
   "outputs": [],
   "source": [
    "from sklearn.neighbors import KNeighborsClassifier\n",
    "classifier = KNeighborsClassifier(n_neighbors=5, weights='uniform',\n",
    "                                  metric='minkowski', p=2)"
   ]
  },
  {
   "cell_type": "markdown",
   "metadata": {},
   "source": [
    "### • prepating to implement a grid search"
   ]
  },
  {
   "cell_type": "code",
   "execution_count": 16,
   "metadata": {},
   "outputs": [
    {
     "name": "stdout",
     "output_type": "stream",
     "text": [
      "Number of tested models: 40\n"
     ]
    }
   ],
   "source": [
    "# makes a dict. of every paramater possible arguments\n",
    "# the keys are the names of the parameter\n",
    "# and the dict.'s values are the list you want to test\n",
    "grid = {'n_neighbors': range(1,11), 'weights': ['uniform', 'distance'],\n",
    "        'p': [1, 2]}\n",
    "\n",
    "# shows the number of models with all possible combination of parameters\n",
    "print(f'Number of tested models: {np.prod([len(grid[element]) for element in grid])}')\n",
    "# using accuracy score as the evaluation measure\n",
    "score_metric = 'accuracy'"
   ]
  },
  {
   "cell_type": "markdown",
   "metadata": {},
   "source": [
    "### • creating a model with default paramaters"
   ]
  },
  {
   "cell_type": "code",
   "execution_count": 59,
   "metadata": {},
   "outputs": [
    {
     "name": "stdout",
     "output_type": "stream",
     "text": [
      "Baseline with default parameters 0.967\n"
     ]
    }
   ],
   "source": [
    "from sklearn.model_selection import cross_val_score\n",
    "# calculates the cross validation score with 'default' configuration\n",
    "score_default = np.mean(cross_val_score(classifier, x_iris, y_iris, cv=10,\n",
    "                                        scoring=score_metric, n_jobs=1))\n",
    "\n",
    "print(f'Baseline with default parameters {score_default:.3f}')"
   ]
  },
  {
   "cell_type": "markdown",
   "metadata": {},
   "source": [
    "### • implementing grid search"
   ]
  },
  {
   "cell_type": "code",
   "execution_count": 25,
   "metadata": {},
   "outputs": [],
   "source": [
    "from sklearn.model_selection import GridSearchCV\n",
    "# estimator para. determines which algorithm used\n",
    "# param_grid para, is the dict you create before\n",
    "# scoring para. is the scoring method used\n",
    "# n_jobs para. is the core used in the process\n",
    "# refit para. will refit model with the best found parameter\n",
    "# return_train_score para. is self explainatory\n",
    "# cv para. determines the number of your cross validation folds\n",
    "search = GridSearchCV(estimator=classifier, param_grid=grid,\n",
    "                      scoring=score_metric, n_jobs=1,\n",
    "                      refit=True, return_train_score=True,\n",
    "                      cv=10)\n",
    "\n",
    "search.fit(x_iris, y_iris);"
   ]
  },
  {
   "cell_type": "markdown",
   "metadata": {},
   "source": [
    "### • printing the resulting best parameters and the score of the best combination"
   ]
  },
  {
   "cell_type": "code",
   "execution_count": 28,
   "metadata": {},
   "outputs": [
    {
     "name": "stdout",
     "output_type": "stream",
     "text": [
      "Best parameters: {'n_neighbors': 9, 'p': 1, 'weights': 'uniform'}\n",
      "CV accuracy of best parameters: 0.973\n"
     ]
    }
   ],
   "source": [
    "# inspects the the results using best_params_ and best_score_\n",
    "print(f'Best parameters: {search.best_params_}')\n",
    "print(f'CV accuracy of best parameters: {search.best_score_:.3f}')"
   ]
  },
  {
   "cell_type": "markdown",
   "metadata": {},
   "source": [
    "### • inspecting the entire cross validation score and its standard deviation"
   ]
  },
  {
   "cell_type": "code",
   "execution_count": 32,
   "metadata": {},
   "outputs": [],
   "source": [
    "# print(search.cv_results_)"
   ]
  },
  {
   "cell_type": "markdown",
   "metadata": {},
   "source": [
    "### • visualizing how train and validation behave when using different n_neighbors"
   ]
  },
  {
   "cell_type": "code",
   "execution_count": 55,
   "metadata": {},
   "outputs": [],
   "source": [
    "from sklearn.model_selection import validation_curve\n",
    "# uses manhattan distance\n",
    "model = KNeighborsClassifier(weights='uniform', metric='minkowski',\n",
    "                             p=1)\n",
    "# param_names is the paramaters you want to compare\n",
    "# param_range is the list of the values for the paramaters you want to compare\n",
    "# there are 2 returns from the validation_curve\n",
    "train, test = validation_curve(model, x_iris, y_iris,\n",
    "                               param_name='n_neighbors',\n",
    "                               param_range=range(9, 21), \n",
    "                               cv=10, scoring='accuracy',\n",
    "                               n_jobs=1)"
   ]
  },
  {
   "cell_type": "code",
   "execution_count": 57,
   "metadata": {},
   "outputs": [
    {
     "data": {
      "image/png": "[encoded data removed]",
      "text/plain": [
       "<Figure size 432x288 with 1 Axes>"
      ]
     },
     "metadata": {
      "needs_background": "light"
     },
     "output_type": "display_data"
    }
   ],
   "source": [
    "import matplotlib.pyplot as plt\n",
    "mean_train = np.mean(train, axis=1)\n",
    "mean_test = np.mean(test, axis=1)\n",
    "plt.plot(range(9,21), mean_train, 'ro--', label='Training')\n",
    "plt.plot(range(9,21), mean_test, 'bD-.', label='CV')\n",
    "plt.grid()\n",
    "plt.xlabel('Number of neighbors')\n",
    "plt.ylabel('accuracy')\n",
    "plt.legend(loc='lower right', numpoints=1)\n",
    "plt.show()\n"
   ]
  },
  {
   "cell_type": "markdown",
   "metadata": {},
   "source": [
    "## » Trying a randomized search"
   ]
  },
  {
   "cell_type": "markdown",
   "metadata": {},
   "source": [
    "### • performing randomized search"
   ]
  },
  {
   "cell_type": "code",
   "execution_count": 145,
   "metadata": {},
   "outputs": [],
   "source": [
    "from sklearn.model_selection import RandomizedSearchCV\n",
    "# param_distributions para. is the dict. you create earlier\n",
    "random_search = RandomizedSearchCV(estimator=classifier,\n",
    "                                 param_distributions=grid, \n",
    "                                 n_iter=10, scoring=score_metric,\n",
    "                                 n_jobs=1, refit=True, cv=10)\n",
    "\n",
    "\n",
    "random_search.fit(x_iris, y_iris);"
   ]
  },
  {
   "cell_type": "markdown",
   "metadata": {},
   "source": [
    "### • exploring the result"
   ]
  },
  {
   "cell_type": "code",
   "execution_count": 146,
   "metadata": {},
   "outputs": [
    {
     "name": "stdout",
     "output_type": "stream",
     "text": [
      "Best parameters: {'weights': 'distance', 'p': 2, 'n_neighbors': 10}\n",
      "CV accuracy of best parameters: 0.973\n"
     ]
    }
   ],
   "source": [
    "print(f'Best parameters: {random_search.best_params_}')\n",
    "print(f'CV accuracy of best parameters: {random_search.best_score_:.3f}')"
   ]
  }
 ],
 "metadata": {
  "kernelspec": {
   "display_name": "Python 3",
   "language": "python",
   "name": "python3"
  },
  "language_info": {
   "codemirror_mode": {
    "name": "ipython",
    "version": 3
   },
   "file_extension": ".py",
   "mimetype": "text/x-python",
   "name": "python",
   "nbconvert_exporter": "python",
   "pygments_lexer": "ipython3",
   "version": "3.7.6"
  }
 },
 "nbformat": 4,
 "nbformat_minor": 4
}
