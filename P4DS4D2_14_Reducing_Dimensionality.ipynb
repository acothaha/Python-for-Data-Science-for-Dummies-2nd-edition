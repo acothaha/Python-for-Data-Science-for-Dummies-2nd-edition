{
 "cells": [
  {
   "cell_type": "markdown",
   "metadata": {},
   "source": [
    "# Undestanding SVD"
   ]
  },
  {
   "cell_type": "markdown",
   "metadata": {},
   "source": [
    "## » Looking for dimensionality reduction"
   ]
  },
  {
   "cell_type": "code",
   "execution_count": 1,
   "metadata": {},
   "outputs": [
    {
     "name": "stdout",
     "output_type": "stream",
     "text": [
      "(4, 3)\n",
      "[[1 3 4]\n",
      " [2 3 5]\n",
      " [1 2 3]\n",
      " [5 4 6]]\n"
     ]
    }
   ],
   "source": [
    "import numpy as np\n",
    "A = np.array([[1, 3, 4], [2, 3, 5], [1, 2, 3], [5, 4, 6]])\n",
    "print(A.shape)\n",
    "print(A)"
   ]
  },
  {
   "cell_type": "markdown",
   "metadata": {},
   "source": [
    "### • accessing SVD function using np.linalg"
   ]
  },
  {
   "cell_type": "code",
   "execution_count": 2,
   "metadata": {},
   "outputs": [
    {
     "name": "stdout",
     "output_type": "stream",
     "text": [
      "(4, 3) (3,) (3, 3)\n",
      "[12.26362747  2.11085464  0.38436189]\n"
     ]
    }
   ],
   "source": [
    "# creating the 3 necessary matrices using svd()\n",
    "# 1st para. is the matrix you want to reduce\n",
    "# 2nd para. used to deterimine wether the dimension of U and Vh\n",
    "# is following the original matrix or nah\n",
    "U, s, Vh = np.linalg.svd(A, full_matrices=False)\n",
    "print(np.shape(U), np.shape(s), np.shape(Vh))\n",
    "print(s)"
   ]
  },
  {
   "cell_type": "markdown",
   "metadata": {},
   "source": [
    "### • reducing the last column from the 3 matrices"
   ]
  },
  {
   "cell_type": "code",
   "execution_count": 3,
   "metadata": {},
   "outputs": [
    {
     "name": "stdout",
     "output_type": "stream",
     "text": [
      "[[1.  2.8 4.1]\n",
      " [2.  3.2 4.8]\n",
      " [1.  2.  3. ]\n",
      " [5.  3.9 6. ]]\n"
     ]
    }
   ],
   "source": [
    "# construct a new matrix from the 3 matrices after the last column\n",
    "# is discarded\n",
    "print(np.round(np.dot(np.dot(U[:,:2], np.diag(s[:2])),\n",
    "                      Vh[:2,:]), 1)) \n",
    "\n",
    "# the result is almost identical to the original\n",
    "# that means, you could drop the last component and use U\n",
    "# as a perfect subtitute for the original dataset"
   ]
  },
  {
   "cell_type": "markdown",
   "metadata": {},
   "source": [
    "### • reducing the 2 last columns from the 3 matrices"
   ]
  },
  {
   "cell_type": "code",
   "execution_count": 4,
   "metadata": {},
   "outputs": [
    {
     "name": "stdout",
     "output_type": "stream",
     "text": [
      "[[2.1 2.5 3.7]\n",
      " [2.6 3.1 4.6]\n",
      " [1.6 1.8 2.8]\n",
      " [3.7 4.3 6.5]]\n"
     ]
    }
   ],
   "source": [
    "# construct a new matrix from the 3 matrices after the 2 last column\n",
    "# are discarded\n",
    "print(np.round(np.dot(np.dot(U[:,:1], np.diag(s[:1])),\n",
    "                      Vh[:1,:]), 1)) \n",
    "\n",
    "# the result is far from the original, so discarding the last 2 columns\n",
    "# is not an option"
   ]
  },
  {
   "cell_type": "markdown",
   "metadata": {},
   "source": [
    "# Performing Factor Analysis and PCA"
   ]
  },
  {
   "cell_type": "markdown",
   "metadata": {},
   "source": [
    "## » Considering the psychometric model"
   ]
  },
  {
   "cell_type": "markdown",
   "metadata": {},
   "source": [
    "\n",
    "## » Looking for hidden factors"
   ]
  },
  {
   "cell_type": "markdown",
   "metadata": {},
   "source": [
    "### • perform factor analysis using Sklearn"
   ]
  },
  {
   "cell_type": "code",
   "execution_count": 5,
   "metadata": {},
   "outputs": [
    {
     "name": "stdout",
     "output_type": "stream",
     "text": [
      "['sepal length', 'sepal width', 'petal length', 'petal width']\n"
     ]
    }
   ],
   "source": [
    "from sklearn.datasets import load_iris\n",
    "from sklearn.decomposition import FactorAnalysis\n",
    "iris = load_iris()\n",
    "X = iris.data\n",
    "Y = iris.target\n",
    "# strip the features name to just get the first 12 char\n",
    "# which is only the name of the features without the (cm)\n",
    "cols = [s[:12].strip() for s in iris.feature_names]\n",
    "print(cols)\n",
    "# initialized Factor Analysis with 4 factors \n",
    "# (from 4 features in iris datasets)\n",
    "# and fitting it to the predictive feature X\n",
    "factor = FactorAnalysis(n_components=4).fit(X)"
   ]
  },
  {
   "cell_type": "markdown",
   "metadata": {},
   "source": [
    "### • explore the result of Factor Analysis using Pandas"
   ]
  },
  {
   "cell_type": "code",
   "execution_count": 6,
   "metadata": {},
   "outputs": [
    {
     "name": "stdout",
     "output_type": "stream",
     "text": [
      "   sepal length  sepal width  petal length  petal width\n",
      "0      0.706989    -0.158005      1.654236      0.70085\n",
      "1      0.115161     0.159635     -0.044321     -0.01403\n",
      "2     -0.000000     0.000000      0.000000      0.00000\n",
      "3     -0.000000     0.000000      0.000000     -0.00000\n"
     ]
    }
   ],
   "source": [
    "import pandas as pd\n",
    "# print the cintersaction between the factors and the original features\n",
    "print(pd.DataFrame(factor.components_, columns=cols))"
   ]
  },
  {
   "cell_type": "markdown",
   "metadata": {},
   "source": [
    "## » Using components, not factors"
   ]
  },
  {
   "cell_type": "markdown",
   "metadata": {},
   "source": [
    "## » Achieving dimensionality reduction"
   ]
  },
  {
   "cell_type": "markdown",
   "metadata": {},
   "source": [
    "### • perform PCA using Scikit-Learn"
   ]
  },
  {
   "cell_type": "code",
   "execution_count": 7,
   "metadata": {},
   "outputs": [
    {
     "name": "stdout",
     "output_type": "stream",
     "text": [
      "explained variance by each component: \n",
      "[0.92461872 0.05306648 0.01710261 0.00521218]\n",
      "   sepal length  sepal width  petal length  petal width\n",
      "0      0.361387    -0.084523      0.856671     0.358289\n",
      "1      0.656589     0.730161     -0.173373    -0.075481\n",
      "2     -0.582030     0.597911      0.076236     0.545831\n",
      "3     -0.315487     0.319723      0.479839    -0.753657\n"
     ]
    }
   ],
   "source": [
    "from sklearn.decomposition import PCA\n",
    "import pandas as pd\n",
    "# fitting X to the PCA / transforms the original matrix with PCA\n",
    "pca = PCA().fit(X)\n",
    "# assign PCA variance ratio to a variable\n",
    "var_ratio = pca.explained_variance_ratio_\n",
    "# create a new df which consist of PCA componenets\n",
    "comps = pd.DataFrame(pca.components_, columns=cols)\n",
    "print(f\"explained variance by each component: \\n{var_ratio}\")\n",
    "print(comps)"
   ]
  },
  {
   "cell_type": "markdown",
   "metadata": {},
   "source": [
    "## » Squeezing information with t-SNE"
   ]
  },
  {
   "cell_type": "markdown",
   "metadata": {},
   "source": [
    "### • importing required dataset for the algorithm"
   ]
  },
  {
   "cell_type": "code",
   "execution_count": 8,
   "metadata": {},
   "outputs": [],
   "source": [
    "from sklearn.datasets import load_digits\n",
    "digits = load_digits()\n",
    "X = digits.data\n",
    "ground_truth = digits.target"
   ]
  },
  {
   "cell_type": "markdown",
   "metadata": {},
   "source": [
    "### • running t-SNE algorithm with Scikit-learn"
   ]
  },
  {
   "cell_type": "code",
   "execution_count": 9,
   "metadata": {},
   "outputs": [],
   "source": [
    "from sklearn.manifold import TSNE\n",
    "# n_compopnents para. defines the dimension of the embedded space\n",
    "# init para. deterimines the initialization of embedding\n",
    "# random_state para. determines the random number generation\n",
    "# perplexity para. is related to the number of nearest neighbour that \n",
    "# is used in othe manifold learning algorithm\n",
    "# early_exaggeration para. controls how tight natural cluster\n",
    "# n_iter para. determines the number of iteration\n",
    "# the last three paramaters control the quality of the representation\n",
    "tsne = TSNE(n_components=2,\n",
    "            init='pca',\n",
    "            random_state=0,\n",
    "            perplexity=50,\n",
    "            early_exaggeration=25,\n",
    "            n_iter=500)\n",
    "# fitting and transform X with designated t-SNE algorithm\n",
    "Tx = tsne.fit_transform(X)"
   ]
  },
  {
   "cell_type": "markdown",
   "metadata": {},
   "source": [
    "### • plotting the reduced dataset"
   ]
  },
  {
   "cell_type": "code",
   "execution_count": 10,
   "metadata": {},
   "outputs": [
    {
     "data": {
      "image/png": "[encoded data removed]",
      "text/plain": [
       "<Figure size 432x288 with 1 Axes>"
      ]
     },
     "metadata": {},
     "output_type": "display_data"
    }
   ],
   "source": [
    "import numpy as no\n",
    "import matplotlib.pyplot as plt\n",
    "# removing the x and y ticks\n",
    "plt.xticks([], [])\n",
    "plt.yticks([], [])\n",
    "# create a for loop from the unique value in ground_truth\n",
    "for target in np.unique(ground_truth):\n",
    "    # return a True if the ground_truth is equal to each of \n",
    "    # target entry value\n",
    "    selection = ground_truth==target\n",
    "    # create the plotting according to the selection\n",
    "    # and coordinate vary from 0 to 1\n",
    "    X1, X2 = Tx[selection, 0], Tx[selection, 1]\n",
    "    # create a cordinate from the median of axises from each entry\n",
    "    c1, c2 = np.median(X1), np.median(X2)\n",
    "    # plot the the coordinate, ms para. is marker size\n",
    "    plt.plot(X1, X2, 'o', ms=5)\n",
    "    # plot the target value in each 'region' of number\n",
    "    plt.text(c1, c2, target, fontsize=15)\n",
    "\n",
    "           "
   ]
  },
  {
   "cell_type": "markdown",
   "metadata": {},
   "source": [
    "#  Understanding Some Applications"
   ]
  },
  {
   "cell_type": "markdown",
   "metadata": {},
   "source": [
    "## » Recognizing faces with PCA"
   ]
  },
  {
   "cell_type": "markdown",
   "metadata": {},
   "source": [
    "### • importing the face image"
   ]
  },
  {
   "cell_type": "code",
   "execution_count": 11,
   "metadata": {},
   "outputs": [],
   "source": [
    "from sklearn.datasets import fetch_olivetti_faces\n",
    "# shuffle para. used to suffle the order of the dataset\n",
    "# random_state para. determines random number generation \n",
    "# for the shuffling\n",
    "dataset = fetch_olivetti_faces(shuffle=True, random_state=101)\n",
    "# creating 2 dataset\n",
    "# the train one is the one you already know abaut its label\n",
    "train_faces = dataset.data[:350,:]\n",
    "# this one you dont know\n",
    "test_faces = dataset.data[350:,:]\n",
    "# the array of which label attached to the pics\n",
    "train_answers = dataset.target[:350]\n",
    "# the answer of label from the unknown pics\n",
    "test_answers = dataset.target[350:]\n"
   ]
  },
  {
   "cell_type": "markdown",
   "metadata": {},
   "source": [
    "### • transforms and reduces the image using a PCA algorithm with Scikit-learn"
   ]
  },
  {
   "cell_type": "code",
   "execution_count": 12,
   "metadata": {},
   "outputs": [
    {
     "name": "stdout",
     "output_type": "stream",
     "text": [
      "Explained variance by 25 components: 0.7944227457046509\n"
     ]
    }
   ],
   "source": [
    "from sklearn.decomposition import PCA\n",
    "# define the number of components you want to take\n",
    "n_components = 25\n",
    "# svd_solver para. determines what kind of solver you use\n",
    "# n_components para. determines how many components you want to use\n",
    "# whiten para. used to remove some constant noise \n",
    "# (created by textual and photo granularity) from images\n",
    "Rpca = PCA(svd_solver='randomized',\n",
    "           n_components=n_components,\n",
    "           whiten=True)\n",
    "# train the model using train_faces datasets\n",
    "Rpca.fit(train_faces)\n",
    "# the sum of the first 25 components used\n",
    "var_ratio = np.sum(Rpca.explained_variance_ratio_)\n",
    "print(f\"Explained variance by {n_components} components: {var_ratio}\")\n",
    "# transform the faces data with the number componenent from the PCA\n",
    "compressed_train_faces = Rpca.transform(train_faces)\n",
    "compressed_test_faces = Rpca.transform(test_faces)\n",
    "# the result shows that almost 80% of the information from the\n",
    "# datasets contained by 25 components"
   ]
  },
  {
   "cell_type": "markdown",
   "metadata": {},
   "source": [
    "### • represent subject number 34, whose photo number 17 has been chosen as the test set"
   ]
  },
  {
   "cell_type": "code",
   "execution_count": 13,
   "metadata": {},
   "outputs": [
    {
     "name": "stdout",
     "output_type": "stream",
     "text": [
      "The represented person is subject 34\n"
     ]
    },
    {
     "data": {
      "image/png": "[encoded data removed]",
      "text/plain": [
       "<Figure size 432x288 with 1 Axes>"
      ]
     },
     "metadata": {
      "needs_background": "light"
     },
     "output_type": "display_data"
    }
   ],
   "source": [
    "import  matplotlib.pyplot as plt\n",
    "%matplotlib inline\n",
    "# choose a photo number\n",
    "photo = 17\n",
    "# find the answer feature from entry 17 in the test data\n",
    "print(f\"The represented person is subject {test_answers[17]}\")\n",
    "# add a sublot to make the figure looks better\n",
    "plt.subplot(1, 2, 1)\n",
    "# get rid off the axis\n",
    "plt.axis('off')\n",
    "plt.title('Unknown photo '+str(photo)+' in test set')\n",
    "# plotting the image\n",
    "# cmap para. determines the color of the map\n",
    "# interpolation determines the way of the interpolation (duh...)\n",
    "plt.imshow(test_faces[photo].reshape(64,64), \n",
    "           cmap=plt.cm.gray, interpolation='nearest')\n",
    "plt.show()"
   ]
  },
  {
   "cell_type": "markdown",
   "metadata": {},
   "source": [
    "### • return the code number of the most resembling person in the dataset"
   ]
  },
  {
   "cell_type": "code",
   "execution_count": 14,
   "metadata": {},
   "outputs": [
    {
     "name": "stdout",
     "output_type": "stream",
     "text": [
      "Best resembling subject in training set: 34\n"
     ]
    }
   ],
   "source": [
    "# gets all of the each 25 value from the 17th entry in the compressed_\n",
    "# test_face\n",
    "mask = compressed_test_faces[photo,]\n",
    "# sums the difference between every entry's values from compressed_\n",
    "# train_faces and the mask to acquire the error\n",
    "# and square it to remove the negative number\n",
    "# axis=1 is to take only the value of each entry to be subtracted\n",
    "# by the mask\n",
    "squared_errors = np.sum((compressed_train_faces - mask)**2, axis=1)\n",
    "# argmin() will find the smallest number in the array\n",
    "minimum_error_face = np.argmin(squared_errors)\n",
    "# lists every entry in the squared_errors where its values < 20\n",
    "most_resembling = list(np.where(squared_errors < 20)[0])\n",
    "print(f'''Best resembling subject in training set: {train_answers[minimum_error_face]}''')"
   ]
  },
  {
   "cell_type": "markdown",
   "metadata": {},
   "source": [
    "### • displaying the test photo with the top three images that resemble it from the train set"
   ]
  },
  {
   "cell_type": "code",
   "execution_count": 15,
   "metadata": {},
   "outputs": [
    {
     "data": {
      "image/png": "[encoded data removed]",
      "text/plain": [
       "<Figure size 432x288 with 4 Axes>"
      ]
     },
     "metadata": {
      "needs_background": "light"
     },
     "output_type": "display_data"
    }
   ],
   "source": [
    "import matplotlib.pyplot as plt\n",
    "# place the plot in the right position\n",
    "plt.subplot(2, 2, 1)\n",
    "plt.axis('off')\n",
    "plt.title(f'Unknown face {str(photo)} in test set')\n",
    "plt.imshow(test_faces[photo].reshape(64,64),\n",
    "           cmap=plt.cm.gray, interpolation='nearest')\n",
    "# makes a for loop with k as the index and m as the value from\n",
    "# most_resembling list\n",
    "for k,m in enumerate(most_resembling[:3]):\n",
    "    # places each new plot apart from each other\n",
    "    plt.subplot(2, 2, 2+k)\n",
    "    plt.title(f'Match in train set no. {str(m)}')\n",
    "    plt.axis('off')\n",
    "    plt.imshow(train_faces[m].reshape(64,64),\n",
    "               cmap=plt.cm.gray, interpolation='nearest')\n",
    "plt.show()"
   ]
  },
  {
   "cell_type": "markdown",
   "metadata": {},
   "source": [
    "## » Extracting topics with NMF"
   ]
  },
  {
   "cell_type": "markdown",
   "metadata": {},
   "source": [
    "### • importing 20newsgroups dataset"
   ]
  },
  {
   "cell_type": "code",
   "execution_count": 16,
   "metadata": {},
   "outputs": [
    {
     "name": "stdout",
     "output_type": "stream",
     "text": [
      "Posts: 585\n"
     ]
    }
   ],
   "source": [
    "from sklearn.datasets import fetch_20newsgroups\n",
    "# choose a class of dataset 'misc. forsale' and removes its \n",
    "# headers, footers, and quotes\n",
    "dataset = fetch_20newsgroups(shuffle=True, categories=['misc.forsale'],\n",
    "                             remove=('headers', 'footers', 'quotes'), \n",
    "                             random_state=101)\n",
    "print(f'Posts: {len(dataset.data)}')"
   ]
  },
  {
   "cell_type": "markdown",
   "metadata": {},
   "source": [
    "### • removing stop words using TfidfVectorizer()"
   ]
  },
  {
   "cell_type": "code",
   "execution_count": 17,
   "metadata": {},
   "outputs": [],
   "source": [
    "from sklearn.feature_extraction.text import TfidfVectorizer\n",
    "from sklearn.decomposition import NMF\n",
    "# creates a vectorizer using TfidfVectorizer\n",
    "# max_df para. represents a proportion of documents\n",
    "# min_df para. will not count the word's count below 2\n",
    "# stop_words para. determines which kind of stop_word discarded\n",
    "vectorizer = TfidfVectorizer(max_df=0.95, min_df=2,\n",
    "                             stop_words='english')\n",
    "# get all the wards without the stop_words\n",
    "tfidf = vectorizer.fit_transform(dataset.data)\n",
    "# creates a variable consist of a number of desired components\n",
    "n_topics = 5\n",
    "# creating the matrix which consist of the components\n",
    "# from the fitted words from the vectorizer\n",
    "nmf = NMF(n_components=n_topics, \n",
    "          random_state=101).fit(tfidf)"
   ]
  },
  {
   "cell_type": "markdown",
   "metadata": {},
   "source": [
    "### • Script outputs the resulting five components (topic)"
   ]
  },
  {
   "cell_type": "code",
   "execution_count": 18,
   "metadata": {},
   "outputs": [
    {
     "name": "stdout",
     "output_type": "stream",
     "text": [
      "topics 1\n",
      "condition excellent asking offer best car old new sale 10 miles 000 tape cd power\n",
      "topics 2\n",
      "00 50 dos 20 10 15 cover 1st new 25 price man 40 shipping comics\n",
      "topics 3\n",
      "drive hard card floppy monitor meg ram disk motherboard vga modem brand scsi color internal\n",
      "topics 4\n",
      "email looking game games send interested mail thanks like edu good want package price list\n",
      "topics 5\n",
      "shipping vcr works stereo obo included amp plus great volume unc mathes gibbs radley remotes\n"
     ]
    }
   ],
   "source": [
    "# get all the words from the fitted vectorizer\n",
    "feature_names = vectorizer.get_feature_names()\n",
    "# set the number of most frequent words you want to appear\n",
    "n_top_words = 15\n",
    "# creating the for loop \n",
    "# topic_idx is the index of each component (topic)\n",
    "# topic is all of the number of words that appear in a particular \n",
    "# topic\n",
    "for topic_idx, topic in enumerate(nmf.components_):\n",
    "    # shows the index of the topic\n",
    "    print(f'topics {topic_idx+1}')\n",
    "    # assign the top 15 most frequent words with descending order\n",
    "    topics = topic.argsort()[:-n_top_words - 1:-1]\n",
    "    # print each word from the index calculated earlier\n",
    "    print(' '.join([feature_names[i] for i in topics]))"
   ]
  },
  {
   "cell_type": "markdown",
   "metadata": {},
   "source": [
    "## » recommending movies"
   ]
  },
  {
   "cell_type": "markdown",
   "metadata": {},
   "source": [
    "### • discovering python working directory"
   ]
  },
  {
   "cell_type": "code",
   "execution_count": 19,
   "metadata": {},
   "outputs": [
    {
     "name": "stdout",
     "output_type": "stream",
     "text": [
      "C:\\Users\\aco\\P4DS4D2\n"
     ]
    }
   ],
   "source": [
    "import os\n",
    "print(os.getcwd())"
   ]
  },
  {
   "cell_type": "markdown",
   "metadata": {},
   "source": [
    "### • Import the necessary database "
   ]
  },
  {
   "cell_type": "code",
   "execution_count": 20,
   "metadata": {
    "scrolled": true
   },
   "outputs": [
    {
     "data": {
      "text/html": [
       "<div>\n",
       "<style scoped>\n",
       "    .dataframe tbody tr th:only-of-type {\n",
       "        vertical-align: middle;\n",
       "    }\n",
       "\n",
       "    .dataframe tbody tr th {\n",
       "        vertical-align: top;\n",
       "    }\n",
       "\n",
       "    .dataframe thead th {\n",
       "        text-align: right;\n",
       "    }\n",
       "</style>\n",
       "<table border=\"1\" class=\"dataframe\">\n",
       "  <thead>\n",
       "    <tr style=\"text-align: right;\">\n",
       "      <th></th>\n",
       "      <th>user_id</th>\n",
       "      <th>movie_id</th>\n",
       "      <th>rating</th>\n",
       "      <th>timestamp</th>\n",
       "      <th>gender</th>\n",
       "      <th>age</th>\n",
       "      <th>occupation</th>\n",
       "      <th>zip</th>\n",
       "      <th>title</th>\n",
       "      <th>genres</th>\n",
       "    </tr>\n",
       "  </thead>\n",
       "  <tbody>\n",
       "    <tr>\n",
       "      <th>0</th>\n",
       "      <td>1</td>\n",
       "      <td>1193</td>\n",
       "      <td>5</td>\n",
       "      <td>978300760</td>\n",
       "      <td>F</td>\n",
       "      <td>1</td>\n",
       "      <td>10</td>\n",
       "      <td>48067</td>\n",
       "      <td>One Flew Over the Cuckoo's Nest (1975)</td>\n",
       "      <td>Drama</td>\n",
       "    </tr>\n",
       "    <tr>\n",
       "      <th>1</th>\n",
       "      <td>2</td>\n",
       "      <td>1193</td>\n",
       "      <td>5</td>\n",
       "      <td>978298413</td>\n",
       "      <td>M</td>\n",
       "      <td>56</td>\n",
       "      <td>16</td>\n",
       "      <td>70072</td>\n",
       "      <td>One Flew Over the Cuckoo's Nest (1975)</td>\n",
       "      <td>Drama</td>\n",
       "    </tr>\n",
       "    <tr>\n",
       "      <th>2</th>\n",
       "      <td>12</td>\n",
       "      <td>1193</td>\n",
       "      <td>4</td>\n",
       "      <td>978220179</td>\n",
       "      <td>M</td>\n",
       "      <td>25</td>\n",
       "      <td>12</td>\n",
       "      <td>32793</td>\n",
       "      <td>One Flew Over the Cuckoo's Nest (1975)</td>\n",
       "      <td>Drama</td>\n",
       "    </tr>\n",
       "    <tr>\n",
       "      <th>3</th>\n",
       "      <td>15</td>\n",
       "      <td>1193</td>\n",
       "      <td>4</td>\n",
       "      <td>978199279</td>\n",
       "      <td>M</td>\n",
       "      <td>25</td>\n",
       "      <td>7</td>\n",
       "      <td>22903</td>\n",
       "      <td>One Flew Over the Cuckoo's Nest (1975)</td>\n",
       "      <td>Drama</td>\n",
       "    </tr>\n",
       "    <tr>\n",
       "      <th>4</th>\n",
       "      <td>17</td>\n",
       "      <td>1193</td>\n",
       "      <td>5</td>\n",
       "      <td>978158471</td>\n",
       "      <td>M</td>\n",
       "      <td>50</td>\n",
       "      <td>1</td>\n",
       "      <td>95350</td>\n",
       "      <td>One Flew Over the Cuckoo's Nest (1975)</td>\n",
       "      <td>Drama</td>\n",
       "    </tr>\n",
       "  </tbody>\n",
       "</table>\n",
       "</div>"
      ],
      "text/plain": [
       "   user_id  movie_id  rating  timestamp gender  age  occupation    zip  \\\n",
       "0        1      1193       5  978300760      F    1          10  48067   \n",
       "1        2      1193       5  978298413      M   56          16  70072   \n",
       "2       12      1193       4  978220179      M   25          12  32793   \n",
       "3       15      1193       4  978199279      M   25           7  22903   \n",
       "4       17      1193       5  978158471      M   50           1  95350   \n",
       "\n",
       "                                    title genres  \n",
       "0  One Flew Over the Cuckoo's Nest (1975)  Drama  \n",
       "1  One Flew Over the Cuckoo's Nest (1975)  Drama  \n",
       "2  One Flew Over the Cuckoo's Nest (1975)  Drama  \n",
       "3  One Flew Over the Cuckoo's Nest (1975)  Drama  \n",
       "4  One Flew Over the Cuckoo's Nest (1975)  Drama  "
      ]
     },
     "execution_count": 20,
     "metadata": {},
     "output_type": "execute_result"
    }
   ],
   "source": [
    "import pandas as pd\n",
    "from scipy.sparse import csr_matrix\n",
    "# reads the all of the data and turns it into a \n",
    "users = pd.read_table('dataset_toy/ml-1m/users.dat', sep='::',\n",
    "                      header=None, names=['user_id', 'gender',\n",
    "                      'age', 'occupation', 'zip'], engine='python')\n",
    "ratings = pd.read_table('dataset_toy/ml-1m/ratings.dat', sep='::',\n",
    "                      header=None, names=['user_id', 'movie_id',\n",
    "                      'rating', 'timestamp'], engine='python')\n",
    "movies = pd.read_table('dataset_toy/ml-1m/movies.dat', sep='::',\n",
    "                      header=None, names=['movie_id', 'title',\n",
    "                      'genres'], engine='python')\n",
    "# concat all of the dataframe into one\n",
    "MovieLens = pd.merge(pd.merge(ratings, users), movies)\n",
    "MovieLens.head()"
   ]
  },
  {
   "cell_type": "markdown",
   "metadata": {},
   "source": [
    "### • creates pivot table about users and movie titles"
   ]
  },
  {
   "cell_type": "code",
   "execution_count": 21,
   "metadata": {
    "scrolled": true
   },
   "outputs": [
    {
     "data": {
      "text/html": [
       "<div>\n",
       "<style scoped>\n",
       "    .dataframe tbody tr th:only-of-type {\n",
       "        vertical-align: middle;\n",
       "    }\n",
       "\n",
       "    .dataframe tbody tr th {\n",
       "        vertical-align: top;\n",
       "    }\n",
       "\n",
       "    .dataframe thead th {\n",
       "        text-align: right;\n",
       "    }\n",
       "</style>\n",
       "<table border=\"1\" class=\"dataframe\">\n",
       "  <thead>\n",
       "    <tr style=\"text-align: right;\">\n",
       "      <th>title</th>\n",
       "      <th>$1,000,000 Duck (1971)</th>\n",
       "      <th>'Night Mother (1986)</th>\n",
       "      <th>'Til There Was You (1997)</th>\n",
       "      <th>'burbs, The (1989)</th>\n",
       "      <th>...And Justice for All (1979)</th>\n",
       "      <th>1-900 (1994)</th>\n",
       "      <th>10 Things I Hate About You (1999)</th>\n",
       "      <th>101 Dalmatians (1961)</th>\n",
       "      <th>101 Dalmatians (1996)</th>\n",
       "      <th>12 Angry Men (1957)</th>\n",
       "      <th>...</th>\n",
       "      <th>Young Poisoner's Handbook, The (1995)</th>\n",
       "      <th>Young Sherlock Holmes (1985)</th>\n",
       "      <th>Young and Innocent (1937)</th>\n",
       "      <th>Your Friends and Neighbors (1998)</th>\n",
       "      <th>Zachariah (1971)</th>\n",
       "      <th>Zed &amp; Two Noughts, A (1985)</th>\n",
       "      <th>Zero Effect (1998)</th>\n",
       "      <th>Zero Kelvin (Kj誡lighetens kjere) (1995)</th>\n",
       "      <th>Zeus and Roxanne (1997)</th>\n",
       "      <th>eXistenZ (1999)</th>\n",
       "    </tr>\n",
       "  </thead>\n",
       "  <tbody>\n",
       "    <tr>\n",
       "      <th>count</th>\n",
       "      <td>6040.000000</td>\n",
       "      <td>6040.000000</td>\n",
       "      <td>6040.000000</td>\n",
       "      <td>6040.000000</td>\n",
       "      <td>6040.000000</td>\n",
       "      <td>6040.000000</td>\n",
       "      <td>6040.000000</td>\n",
       "      <td>6040.000000</td>\n",
       "      <td>6040.000000</td>\n",
       "      <td>6040.000000</td>\n",
       "      <td>...</td>\n",
       "      <td>6040.000000</td>\n",
       "      <td>6040.000000</td>\n",
       "      <td>6040.000000</td>\n",
       "      <td>6040.000000</td>\n",
       "      <td>6040.000000</td>\n",
       "      <td>6040.000000</td>\n",
       "      <td>6040.000000</td>\n",
       "      <td>6040.000000</td>\n",
       "      <td>6040.000000</td>\n",
       "      <td>6040.000000</td>\n",
       "    </tr>\n",
       "    <tr>\n",
       "      <th>mean</th>\n",
       "      <td>0.018543</td>\n",
       "      <td>0.039073</td>\n",
       "      <td>0.023179</td>\n",
       "      <td>0.146026</td>\n",
       "      <td>0.122351</td>\n",
       "      <td>0.000828</td>\n",
       "      <td>0.396689</td>\n",
       "      <td>0.336424</td>\n",
       "      <td>0.183609</td>\n",
       "      <td>0.438079</td>\n",
       "      <td>...</td>\n",
       "      <td>0.047517</td>\n",
       "      <td>0.212748</td>\n",
       "      <td>0.005464</td>\n",
       "      <td>0.060927</td>\n",
       "      <td>0.001159</td>\n",
       "      <td>0.016391</td>\n",
       "      <td>0.186921</td>\n",
       "      <td>0.001159</td>\n",
       "      <td>0.009603</td>\n",
       "      <td>0.221026</td>\n",
       "    </tr>\n",
       "    <tr>\n",
       "      <th>std</th>\n",
       "      <td>0.250822</td>\n",
       "      <td>0.380163</td>\n",
       "      <td>0.265832</td>\n",
       "      <td>0.682039</td>\n",
       "      <td>0.681721</td>\n",
       "      <td>0.046390</td>\n",
       "      <td>1.146319</td>\n",
       "      <td>1.089502</td>\n",
       "      <td>0.773525</td>\n",
       "      <td>1.325664</td>\n",
       "      <td>...</td>\n",
       "      <td>0.422375</td>\n",
       "      <td>0.851989</td>\n",
       "      <td>0.142611</td>\n",
       "      <td>0.474133</td>\n",
       "      <td>0.069288</td>\n",
       "      <td>0.246646</td>\n",
       "      <td>0.848712</td>\n",
       "      <td>0.064331</td>\n",
       "      <td>0.169471</td>\n",
       "      <td>0.874652</td>\n",
       "    </tr>\n",
       "    <tr>\n",
       "      <th>min</th>\n",
       "      <td>0.000000</td>\n",
       "      <td>0.000000</td>\n",
       "      <td>0.000000</td>\n",
       "      <td>0.000000</td>\n",
       "      <td>0.000000</td>\n",
       "      <td>0.000000</td>\n",
       "      <td>0.000000</td>\n",
       "      <td>0.000000</td>\n",
       "      <td>0.000000</td>\n",
       "      <td>0.000000</td>\n",
       "      <td>...</td>\n",
       "      <td>0.000000</td>\n",
       "      <td>0.000000</td>\n",
       "      <td>0.000000</td>\n",
       "      <td>0.000000</td>\n",
       "      <td>0.000000</td>\n",
       "      <td>0.000000</td>\n",
       "      <td>0.000000</td>\n",
       "      <td>0.000000</td>\n",
       "      <td>0.000000</td>\n",
       "      <td>0.000000</td>\n",
       "    </tr>\n",
       "    <tr>\n",
       "      <th>25%</th>\n",
       "      <td>0.000000</td>\n",
       "      <td>0.000000</td>\n",
       "      <td>0.000000</td>\n",
       "      <td>0.000000</td>\n",
       "      <td>0.000000</td>\n",
       "      <td>0.000000</td>\n",
       "      <td>0.000000</td>\n",
       "      <td>0.000000</td>\n",
       "      <td>0.000000</td>\n",
       "      <td>0.000000</td>\n",
       "      <td>...</td>\n",
       "      <td>0.000000</td>\n",
       "      <td>0.000000</td>\n",
       "      <td>0.000000</td>\n",
       "      <td>0.000000</td>\n",
       "      <td>0.000000</td>\n",
       "      <td>0.000000</td>\n",
       "      <td>0.000000</td>\n",
       "      <td>0.000000</td>\n",
       "      <td>0.000000</td>\n",
       "      <td>0.000000</td>\n",
       "    </tr>\n",
       "    <tr>\n",
       "      <th>50%</th>\n",
       "      <td>0.000000</td>\n",
       "      <td>0.000000</td>\n",
       "      <td>0.000000</td>\n",
       "      <td>0.000000</td>\n",
       "      <td>0.000000</td>\n",
       "      <td>0.000000</td>\n",
       "      <td>0.000000</td>\n",
       "      <td>0.000000</td>\n",
       "      <td>0.000000</td>\n",
       "      <td>0.000000</td>\n",
       "      <td>...</td>\n",
       "      <td>0.000000</td>\n",
       "      <td>0.000000</td>\n",
       "      <td>0.000000</td>\n",
       "      <td>0.000000</td>\n",
       "      <td>0.000000</td>\n",
       "      <td>0.000000</td>\n",
       "      <td>0.000000</td>\n",
       "      <td>0.000000</td>\n",
       "      <td>0.000000</td>\n",
       "      <td>0.000000</td>\n",
       "    </tr>\n",
       "    <tr>\n",
       "      <th>75%</th>\n",
       "      <td>0.000000</td>\n",
       "      <td>0.000000</td>\n",
       "      <td>0.000000</td>\n",
       "      <td>0.000000</td>\n",
       "      <td>0.000000</td>\n",
       "      <td>0.000000</td>\n",
       "      <td>0.000000</td>\n",
       "      <td>0.000000</td>\n",
       "      <td>0.000000</td>\n",
       "      <td>0.000000</td>\n",
       "      <td>...</td>\n",
       "      <td>0.000000</td>\n",
       "      <td>0.000000</td>\n",
       "      <td>0.000000</td>\n",
       "      <td>0.000000</td>\n",
       "      <td>0.000000</td>\n",
       "      <td>0.000000</td>\n",
       "      <td>0.000000</td>\n",
       "      <td>0.000000</td>\n",
       "      <td>0.000000</td>\n",
       "      <td>0.000000</td>\n",
       "    </tr>\n",
       "    <tr>\n",
       "      <th>max</th>\n",
       "      <td>5.000000</td>\n",
       "      <td>5.000000</td>\n",
       "      <td>5.000000</td>\n",
       "      <td>5.000000</td>\n",
       "      <td>5.000000</td>\n",
       "      <td>3.000000</td>\n",
       "      <td>5.000000</td>\n",
       "      <td>5.000000</td>\n",
       "      <td>5.000000</td>\n",
       "      <td>5.000000</td>\n",
       "      <td>...</td>\n",
       "      <td>5.000000</td>\n",
       "      <td>5.000000</td>\n",
       "      <td>5.000000</td>\n",
       "      <td>5.000000</td>\n",
       "      <td>5.000000</td>\n",
       "      <td>5.000000</td>\n",
       "      <td>5.000000</td>\n",
       "      <td>4.000000</td>\n",
       "      <td>5.000000</td>\n",
       "      <td>5.000000</td>\n",
       "    </tr>\n",
       "  </tbody>\n",
       "</table>\n",
       "<p>8 rows × 3706 columns</p>\n",
       "</div>"
      ],
      "text/plain": [
       "title  $1,000,000 Duck (1971)  'Night Mother (1986)  \\\n",
       "count             6040.000000           6040.000000   \n",
       "mean                 0.018543              0.039073   \n",
       "std                  0.250822              0.380163   \n",
       "min                  0.000000              0.000000   \n",
       "25%                  0.000000              0.000000   \n",
       "50%                  0.000000              0.000000   \n",
       "75%                  0.000000              0.000000   \n",
       "max                  5.000000              5.000000   \n",
       "\n",
       "title  'Til There Was You (1997)  'burbs, The (1989)  \\\n",
       "count                6040.000000         6040.000000   \n",
       "mean                    0.023179            0.146026   \n",
       "std                     0.265832            0.682039   \n",
       "min                     0.000000            0.000000   \n",
       "25%                     0.000000            0.000000   \n",
       "50%                     0.000000            0.000000   \n",
       "75%                     0.000000            0.000000   \n",
       "max                     5.000000            5.000000   \n",
       "\n",
       "title  ...And Justice for All (1979)  1-900 (1994)  \\\n",
       "count                    6040.000000   6040.000000   \n",
       "mean                        0.122351      0.000828   \n",
       "std                         0.681721      0.046390   \n",
       "min                         0.000000      0.000000   \n",
       "25%                         0.000000      0.000000   \n",
       "50%                         0.000000      0.000000   \n",
       "75%                         0.000000      0.000000   \n",
       "max                         5.000000      3.000000   \n",
       "\n",
       "title  10 Things I Hate About You (1999)  101 Dalmatians (1961)  \\\n",
       "count                        6040.000000            6040.000000   \n",
       "mean                            0.396689               0.336424   \n",
       "std                             1.146319               1.089502   \n",
       "min                             0.000000               0.000000   \n",
       "25%                             0.000000               0.000000   \n",
       "50%                             0.000000               0.000000   \n",
       "75%                             0.000000               0.000000   \n",
       "max                             5.000000               5.000000   \n",
       "\n",
       "title  101 Dalmatians (1996)  12 Angry Men (1957)  ...  \\\n",
       "count            6040.000000          6040.000000  ...   \n",
       "mean                0.183609             0.438079  ...   \n",
       "std                 0.773525             1.325664  ...   \n",
       "min                 0.000000             0.000000  ...   \n",
       "25%                 0.000000             0.000000  ...   \n",
       "50%                 0.000000             0.000000  ...   \n",
       "75%                 0.000000             0.000000  ...   \n",
       "max                 5.000000             5.000000  ...   \n",
       "\n",
       "title  Young Poisoner's Handbook, The (1995)  Young Sherlock Holmes (1985)  \\\n",
       "count                            6040.000000                   6040.000000   \n",
       "mean                                0.047517                      0.212748   \n",
       "std                                 0.422375                      0.851989   \n",
       "min                                 0.000000                      0.000000   \n",
       "25%                                 0.000000                      0.000000   \n",
       "50%                                 0.000000                      0.000000   \n",
       "75%                                 0.000000                      0.000000   \n",
       "max                                 5.000000                      5.000000   \n",
       "\n",
       "title  Young and Innocent (1937)  Your Friends and Neighbors (1998)  \\\n",
       "count                6040.000000                        6040.000000   \n",
       "mean                    0.005464                           0.060927   \n",
       "std                     0.142611                           0.474133   \n",
       "min                     0.000000                           0.000000   \n",
       "25%                     0.000000                           0.000000   \n",
       "50%                     0.000000                           0.000000   \n",
       "75%                     0.000000                           0.000000   \n",
       "max                     5.000000                           5.000000   \n",
       "\n",
       "title  Zachariah (1971)  Zed & Two Noughts, A (1985)  Zero Effect (1998)  \\\n",
       "count       6040.000000                  6040.000000         6040.000000   \n",
       "mean           0.001159                     0.016391            0.186921   \n",
       "std            0.069288                     0.246646            0.848712   \n",
       "min            0.000000                     0.000000            0.000000   \n",
       "25%            0.000000                     0.000000            0.000000   \n",
       "50%            0.000000                     0.000000            0.000000   \n",
       "75%            0.000000                     0.000000            0.000000   \n",
       "max            5.000000                     5.000000            5.000000   \n",
       "\n",
       "title  Zero Kelvin (Kj誡lighetens kjere) (1995)  Zeus and Roxanne (1997)  \\\n",
       "count                               6040.000000              6040.000000   \n",
       "mean                                   0.001159                 0.009603   \n",
       "std                                    0.064331                 0.169471   \n",
       "min                                    0.000000                 0.000000   \n",
       "25%                                    0.000000                 0.000000   \n",
       "50%                                    0.000000                 0.000000   \n",
       "75%                                    0.000000                 0.000000   \n",
       "max                                    4.000000                 5.000000   \n",
       "\n",
       "title  eXistenZ (1999)  \n",
       "count      6040.000000  \n",
       "mean          0.221026  \n",
       "std           0.874652  \n",
       "min           0.000000  \n",
       "25%           0.000000  \n",
       "50%           0.000000  \n",
       "75%           0.000000  \n",
       "max           5.000000  \n",
       "\n",
       "[8 rows x 3706 columns]"
      ]
     },
     "execution_count": 21,
     "metadata": {},
     "output_type": "execute_result"
    }
   ],
   "source": [
    "# creates a pivot table between user_id and title with rating\n",
    "# as its aggregate value\n",
    "# and fill a None/NaN with -\n",
    "ratings_mtx_df = MovieLens.pivot_table(values='rating', \n",
    "                 index='user_id', columns='title', fill_value=0)\n",
    "# list all of the movie titles\n",
    "movie_index = ratings_mtx_df.columns\n",
    "ratings_mtx_df.describe()"
   ]
  },
  {
   "cell_type": "markdown",
   "metadata": {},
   "source": [
    "### • apply TruncatedSVD algorithm to the pivot table"
   ]
  },
  {
   "cell_type": "code",
   "execution_count": 31,
   "metadata": {},
   "outputs": [],
   "source": [
    "from sklearn.decomposition import TruncatedSVD\n",
    "# build a TruncatedSVD algorithm as a transformer\n",
    "# n_components para. determines the sum of your components\n",
    "recom = TruncatedSVD(n_components=15, random_state=101)\n",
    "# apply the algorithm to the pivot table earlier but it was\n",
    "# transpoesed first to place the movies as the rows and the\n",
    "# \"user ratings\" as the columns\n",
    "R = recom.fit_transform(ratings_mtx_df.values.T)"
   ]
  },
  {
   "cell_type": "markdown",
   "metadata": {},
   "source": [
    "### • looking for a specific movie"
   ]
  },
  {
   "cell_type": "code",
   "execution_count": 38,
   "metadata": {},
   "outputs": [
    {
     "name": "stdout",
     "output_type": "stream",
     "text": [
      "3154\n",
      "[184.72254552 -17.77612872  47.33450866  51.4664494   47.92058216\n",
      "  17.65033116  14.3574635  -12.82219207  17.51347857   5.46888807\n",
      "   7.5430805   -0.57117869 -30.74032355   2.4088565  -22.50368497]\n"
     ]
    }
   ],
   "source": [
    "# choose a certain movie\n",
    "movie = 'Star Wars: Episode V - The Empire Strikes Back (1980)'\n",
    "# discover the index of the chosen movie\n",
    "movie_idx = list(movie_index).index(movie)\n",
    "print(movie_idx)\n",
    "# shows the 10 components value from the chosen movie\n",
    "# it acts as the movie profile\n",
    "print(R[movie_idx])"
   ]
  },
  {
   "cell_type": "markdown",
   "metadata": {},
   "source": [
    "### • find a similar movie by calculates the correlation"
   ]
  },
  {
   "cell_type": "code",
   "execution_count": 45,
   "metadata": {},
   "outputs": [
    {
     "name": "stdout",
     "output_type": "stream",
     "text": [
      "['Star Wars: Episode IV - A New Hope (1977)', 'Star Wars: Episode VI - Return of the Jedi (1983)']\n"
     ]
    }
   ],
   "source": [
    "import numpy as np\n",
    "# creates the corr. matrix from the already transformed dataframe\n",
    "correlation_matrix = np.corrcoef(R)\n",
    "# lists all of the correlation between the chosen movie and\n",
    "# the other movies\n",
    "P = correlation_matrix[movie_idx]\n",
    "# shows all of the movie titles with a corr higher than 0.975\n",
    "print(list(movie_index[(P > 0.975) & (P < 1.0)]))"
   ]
  },
  {
   "cell_type": "code",
   "execution_count": null,
   "metadata": {},
   "outputs": [],
   "source": []
  },
  {
   "cell_type": "code",
   "execution_count": null,
   "metadata": {},
   "outputs": [],
   "source": []
  },
  {
   "cell_type": "code",
   "execution_count": null,
   "metadata": {},
   "outputs": [],
   "source": []
  },
  {
   "cell_type": "code",
   "execution_count": null,
   "metadata": {},
   "outputs": [],
   "source": []
  },
  {
   "cell_type": "code",
   "execution_count": null,
   "metadata": {},
   "outputs": [],
   "source": []
  }
 ],
 "metadata": {
  "kernelspec": {
   "display_name": "Python 3",
   "language": "python",
   "name": "python3"
  },
  "language_info": {
   "codemirror_mode": {
    "name": "ipython",
    "version": 3
   },
   "file_extension": ".py",
   "mimetype": "text/x-python",
   "name": "python",
   "nbconvert_exporter": "python",
   "pygments_lexer": "ipython3",
   "version": "3.7.6"
  }
 },
 "nbformat": 4,
 "nbformat_minor": 4
}
