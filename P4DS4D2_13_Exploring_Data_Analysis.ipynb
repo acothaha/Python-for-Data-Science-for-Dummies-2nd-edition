{
 "cells": [
  {
   "cell_type": "markdown",
   "metadata": {},
   "source": [
    "# The EDA approach"
   ]
  },
  {
   "cell_type": "markdown",
   "metadata": {},
   "source": [
    "# Defining Descriptive Statistics for Numeric Data"
   ]
  },
  {
   "cell_type": "code",
   "execution_count": 1,
   "metadata": {},
   "outputs": [],
   "source": [
    "from sklearn.datasets import load_iris\n",
    "iris = load_iris()"
   ]
  },
  {
   "cell_type": "markdown",
   "metadata": {},
   "source": [
    "### derive a Numpy nparray and pandas df from Scikit-learn datasets"
   ]
  },
  {
   "cell_type": "code",
   "execution_count": 2,
   "metadata": {},
   "outputs": [
    {
     "name": "stdout",
     "output_type": "stream",
     "text": [
      "Your pandas version is: 1.0.4\n",
      "Your numpy version is: 1.18.1\n"
     ]
    },
    {
     "data": {
      "text/html": [
       "<div>\n",
       "<style scoped>\n",
       "    .dataframe tbody tr th:only-of-type {\n",
       "        vertical-align: middle;\n",
       "    }\n",
       "\n",
       "    .dataframe tbody tr th {\n",
       "        vertical-align: top;\n",
       "    }\n",
       "\n",
       "    .dataframe thead th {\n",
       "        text-align: right;\n",
       "    }\n",
       "</style>\n",
       "<table border=\"1\" class=\"dataframe\">\n",
       "  <thead>\n",
       "    <tr style=\"text-align: right;\">\n",
       "      <th></th>\n",
       "      <th>sepal length (cm)</th>\n",
       "      <th>sepal width (cm)</th>\n",
       "      <th>petal length (cm)</th>\n",
       "      <th>petal width (cm)</th>\n",
       "      <th>group</th>\n",
       "    </tr>\n",
       "  </thead>\n",
       "  <tbody>\n",
       "    <tr>\n",
       "      <th>0</th>\n",
       "      <td>5.1</td>\n",
       "      <td>3.5</td>\n",
       "      <td>1.4</td>\n",
       "      <td>0.2</td>\n",
       "      <td>setosa</td>\n",
       "    </tr>\n",
       "    <tr>\n",
       "      <th>1</th>\n",
       "      <td>4.9</td>\n",
       "      <td>3.0</td>\n",
       "      <td>1.4</td>\n",
       "      <td>0.2</td>\n",
       "      <td>setosa</td>\n",
       "    </tr>\n",
       "    <tr>\n",
       "      <th>2</th>\n",
       "      <td>4.7</td>\n",
       "      <td>3.2</td>\n",
       "      <td>1.3</td>\n",
       "      <td>0.2</td>\n",
       "      <td>setosa</td>\n",
       "    </tr>\n",
       "    <tr>\n",
       "      <th>3</th>\n",
       "      <td>4.6</td>\n",
       "      <td>3.1</td>\n",
       "      <td>1.5</td>\n",
       "      <td>0.2</td>\n",
       "      <td>setosa</td>\n",
       "    </tr>\n",
       "    <tr>\n",
       "      <th>4</th>\n",
       "      <td>5.0</td>\n",
       "      <td>3.6</td>\n",
       "      <td>1.4</td>\n",
       "      <td>0.2</td>\n",
       "      <td>setosa</td>\n",
       "    </tr>\n",
       "  </tbody>\n",
       "</table>\n",
       "</div>"
      ],
      "text/plain": [
       "   sepal length (cm)  sepal width (cm)  petal length (cm)  petal width (cm)  \\\n",
       "0                5.1               3.5                1.4               0.2   \n",
       "1                4.9               3.0                1.4               0.2   \n",
       "2                4.7               3.2                1.3               0.2   \n",
       "3                4.6               3.1                1.5               0.2   \n",
       "4                5.0               3.6                1.4               0.2   \n",
       "\n",
       "    group  \n",
       "0  setosa  \n",
       "1  setosa  \n",
       "2  setosa  \n",
       "3  setosa  \n",
       "4  setosa  "
      ]
     },
     "execution_count": 2,
     "metadata": {},
     "output_type": "execute_result"
    }
   ],
   "source": [
    "import pandas as pd\n",
    "import numpy as np\n",
    "# checking the version of your pandas and numpy\n",
    "print(F'Your pandas version is: {pd.__version__}')\n",
    "print(F'Your numpy version is: {np.__version__}')\n",
    "# convert iris datasets (bunch) into nparray\n",
    "iris_nparray = iris.data\n",
    "# convert iris nparray into pandas DataFrame\n",
    "iris_dataframe = pd.DataFrame(iris.data, columns=iris.feature_names)\n",
    "# add group variable/feature and its observation using \n",
    "# iris.target_names\n",
    "iris_dataframe['group'] = pd.Series([iris.target_names[k] for k in \n",
    "                                     iris.target], dtype='category')\n",
    "iris_dataframe.head()"
   ]
  },
  {
   "cell_type": "markdown",
   "metadata": {},
   "source": [
    "## Measuring central tendency"
   ]
  },
  {
   "cell_type": "markdown",
   "metadata": {},
   "source": [
    "### calculate mean and median with pandas"
   ]
  },
  {
   "cell_type": "code",
   "execution_count": 3,
   "metadata": {},
   "outputs": [
    {
     "name": "stdout",
     "output_type": "stream",
     "text": [
      "sepal length (cm)    5.843333\n",
      "sepal width (cm)     3.057333\n",
      "petal length (cm)    3.758000\n",
      "petal width (cm)     1.199333\n",
      "dtype: float64\n",
      "sepal length (cm)    5.80\n",
      "sepal width (cm)     3.00\n",
      "petal length (cm)    4.35\n",
      "petal width (cm)     1.30\n",
      "dtype: float64\n"
     ]
    }
   ],
   "source": [
    "# numeric_only para. used to calculate mean using only numeric value\n",
    "iris_mean = iris_dataframe.mean(numeric_only=True)\n",
    "iris_median = iris_dataframe.median(numeric_only=True)\n",
    "print(iris_mean)\n",
    "print(iris_median)"
   ]
  },
  {
   "cell_type": "markdown",
   "metadata": {},
   "source": [
    "## Measuring variance and range"
   ]
  },
  {
   "cell_type": "markdown",
   "metadata": {},
   "source": [
    "### calculate standard deviation and range with pandas"
   ]
  },
  {
   "cell_type": "code",
   "execution_count": 4,
   "metadata": {},
   "outputs": [
    {
     "name": "stdout",
     "output_type": "stream",
     "text": [
      "sepal length (cm)    0.828066\n",
      "sepal width (cm)     0.435866\n",
      "petal length (cm)    1.765298\n",
      "petal width (cm)     0.762238\n",
      "dtype: float64\n",
      "sepal length (cm)    3.6\n",
      "sepal width (cm)     2.4\n",
      "petal length (cm)    5.9\n",
      "petal width (cm)     2.4\n",
      "dtype: float64\n"
     ]
    }
   ],
   "source": [
    "iris_std = iris_dataframe.std()\n",
    "iris_range = (iris_dataframe.max(numeric_only=True) -\n",
    "              iris_dataframe.min(numeric_only=True))\n",
    "print(iris_std)\n",
    "print(iris_range)"
   ]
  },
  {
   "cell_type": "markdown",
   "metadata": {},
   "source": [
    "## Working with percentiles"
   ]
  },
  {
   "cell_type": "markdown",
   "metadata": {},
   "source": [
    "### calculate percentiles with pandas"
   ]
  },
  {
   "cell_type": "code",
   "execution_count": 5,
   "metadata": {},
   "outputs": [
    {
     "name": "stdout",
     "output_type": "stream",
     "text": [
      "      sepal length (cm)  sepal width (cm)  petal length (cm)  petal width (cm)\n",
      "0.00                4.3               2.0               1.00               0.1\n",
      "0.25                5.1               2.8               1.60               0.3\n",
      "0.50                5.8               3.0               4.35               1.3\n",
      "0.75                6.4               3.3               5.10               1.8\n",
      "1.00                7.9               4.4               6.90               2.5\n"
     ]
    }
   ],
   "source": [
    "iris_percentiles = iris_dataframe.quantile([.0, .25, .50, .75, 1.])\n",
    "print(iris_percentiles)"
   ]
  },
  {
   "cell_type": "markdown",
   "metadata": {},
   "source": [
    "## Defining measures of normality"
   ]
  },
  {
   "cell_type": "markdown",
   "metadata": {},
   "source": [
    "### calculate the skewness and test it with Scipy"
   ]
  },
  {
   "cell_type": "code",
   "execution_count": 6,
   "metadata": {},
   "outputs": [
    {
     "name": "stdout",
     "output_type": "stream",
     "text": [
      "Skewness -0.272 z-score -1.400 p-value 0.162\n"
     ]
    }
   ],
   "source": [
    "# importing the required func\n",
    "from scipy.stats import skew, skewtest\n",
    "# assign petal lenght feature to variable\n",
    "variable = iris_dataframe['petal length (cm)']\n",
    "# calculate the skewness\n",
    "s = skew(variable)\n",
    "# apply the test\n",
    "zscore, pvalue = skewtest(variable)\n",
    "print(f'Skewness {s:.3f} z-score {zscore:.3f} p-value {pvalue:.3f}')\n",
    "# the result shows that the distribution is silghtly skewed to the left\n",
    "# and it is still usable because p-value > 0.05"
   ]
  },
  {
   "cell_type": "code",
   "execution_count": 7,
   "metadata": {},
   "outputs": [
    {
     "name": "stdout",
     "output_type": "stream",
     "text": [
      "Kurtosis -1.396 z-score -14.823 p-value 0.000\n"
     ]
    }
   ],
   "source": [
    "# importing the required func\n",
    "from scipy.stats import kurtosis, kurtosistest\n",
    "variable = iris_dataframe['petal length (cm)']\n",
    "# calculate the kurtosis\n",
    "k = kurtosis(variable)\n",
    "# apply the test\n",
    "zscore, pvalue = kurtosistest(variable)\n",
    "print(f'Kurtosis {k:.3f} z-score {zscore:.3f} p-value {pvalue:.3f}')\n",
    "# the result shows that the distribution is too flat to be ball shaped \n",
    "# it's unusable as a normal distribution data since p-value <= 0.05"
   ]
  },
  {
   "cell_type": "code",
   "execution_count": null,
   "metadata": {},
   "outputs": [],
   "source": []
  },
  {
   "cell_type": "markdown",
   "metadata": {},
   "source": [
    "# Counting for Categorical Data"
   ]
  },
  {
   "cell_type": "code",
   "execution_count": 8,
   "metadata": {},
   "outputs": [
    {
     "data": {
      "text/html": [
       "<div>\n",
       "<style scoped>\n",
       "    .dataframe tbody tr th:only-of-type {\n",
       "        vertical-align: middle;\n",
       "    }\n",
       "\n",
       "    .dataframe tbody tr th {\n",
       "        vertical-align: top;\n",
       "    }\n",
       "\n",
       "    .dataframe thead th {\n",
       "        text-align: right;\n",
       "    }\n",
       "</style>\n",
       "<table border=\"1\" class=\"dataframe\">\n",
       "  <thead>\n",
       "    <tr style=\"text-align: right;\">\n",
       "      <th></th>\n",
       "      <th>sepal length (cm)</th>\n",
       "      <th>sepal width (cm)</th>\n",
       "      <th>petal length (cm)</th>\n",
       "      <th>petal width (cm)</th>\n",
       "    </tr>\n",
       "  </thead>\n",
       "  <tbody>\n",
       "    <tr>\n",
       "      <th>0</th>\n",
       "      <td>tiny</td>\n",
       "      <td>big</td>\n",
       "      <td>tiny</td>\n",
       "      <td>tiny</td>\n",
       "    </tr>\n",
       "    <tr>\n",
       "      <th>1</th>\n",
       "      <td>tiny</td>\n",
       "      <td>small</td>\n",
       "      <td>tiny</td>\n",
       "      <td>tiny</td>\n",
       "    </tr>\n",
       "    <tr>\n",
       "      <th>2</th>\n",
       "      <td>tiny</td>\n",
       "      <td>average</td>\n",
       "      <td>tiny</td>\n",
       "      <td>tiny</td>\n",
       "    </tr>\n",
       "    <tr>\n",
       "      <th>3</th>\n",
       "      <td>tiny</td>\n",
       "      <td>average</td>\n",
       "      <td>tiny</td>\n",
       "      <td>tiny</td>\n",
       "    </tr>\n",
       "    <tr>\n",
       "      <th>4</th>\n",
       "      <td>tiny</td>\n",
       "      <td>big</td>\n",
       "      <td>tiny</td>\n",
       "      <td>tiny</td>\n",
       "    </tr>\n",
       "  </tbody>\n",
       "</table>\n",
       "</div>"
      ],
      "text/plain": [
       "  sepal length (cm) sepal width (cm) petal length (cm) petal width (cm)\n",
       "0              tiny              big              tiny             tiny\n",
       "1              tiny            small              tiny             tiny\n",
       "2              tiny          average              tiny             tiny\n",
       "3              tiny          average              tiny             tiny\n",
       "4              tiny              big              tiny             tiny"
      ]
     },
     "execution_count": 8,
     "metadata": {},
     "output_type": "execute_result"
    }
   ],
   "source": [
    "# creating the list of percentiles that will be used\n",
    "pcts = [0, .25, .50, .75, 1]\n",
    "# creating the list of names that will be used as the bins name\n",
    "labels = ['tiny', 'small', 'average', 'big']\n",
    "# categorizing the data with qcut()\n",
    "iris_binned = pd.concat([\n",
    "    # first para. is the observation you want to be grouped\n",
    "    # 2nd para. is the percentiles you want to cut with\n",
    "    # labels para. is the name to each bin produced\n",
    "    # precision para. still uncclear\n",
    "    pd.qcut(iris_dataframe.iloc[:,0], pcts, labels=labels, precision=1),\n",
    "    pd.qcut(iris_dataframe.iloc[:,1], pcts, labels=labels, precision=1),\n",
    "    pd.qcut(iris_dataframe.iloc[:,2], pcts, labels=labels, precision=1),\n",
    "    pd.qcut(iris_dataframe.iloc[:,3], pcts, labels=labels, precision=1)],\n",
    "    # join para. is the way you handle indexes in other axis(es)\n",
    "    # axis para. is which axis you are working on\n",
    "    join='inner', axis = 1)\n",
    "iris_binned.head()"
   ]
  },
  {
   "cell_type": "markdown",
   "metadata": {},
   "source": [
    "## Understanding frequencies"
   ]
  },
  {
   "cell_type": "markdown",
   "metadata": {},
   "source": [
    "### obtaining frequencies from a categorical data with pandas"
   ]
  },
  {
   "cell_type": "code",
   "execution_count": 9,
   "metadata": {},
   "outputs": [
    {
     "name": "stdout",
     "output_type": "stream",
     "text": [
      "virginica     50\n",
      "versicolor    50\n",
      "setosa        50\n",
      "Name: group, dtype: int64\n"
     ]
    }
   ],
   "source": [
    "# using value_counts(), obtain the frequencies of categorical data\n",
    "# in a certain variable/column\n",
    "print(iris_dataframe['group'].value_counts())"
   ]
  },
  {
   "cell_type": "code",
   "execution_count": 10,
   "metadata": {},
   "outputs": [
    {
     "name": "stdout",
     "output_type": "stream",
     "text": [
      "tiny       44\n",
      "average    41\n",
      "big        34\n",
      "small      31\n",
      "Name: petal length (cm), dtype: int64\n"
     ]
    }
   ],
   "source": [
    "# using previous binned dataframe to find its frequencies\n",
    "print(iris_binned['petal length (cm)'].value_counts())"
   ]
  },
  {
   "cell_type": "code",
   "execution_count": 11,
   "metadata": {},
   "outputs": [
    {
     "name": "stdout",
     "output_type": "stream",
     "text": [
      "       sepal length (cm) sepal width (cm) petal length (cm) petal width (cm)\n",
      "count                150              150               150              150\n",
      "unique                 4                4                 4                4\n",
      "top                 tiny             tiny              tiny             tiny\n",
      "freq                  41               47                44               41\n"
     ]
    }
   ],
   "source": [
    "# a brief summary of binned iris dataframe\n",
    "print(iris_binned.describe())"
   ]
  },
  {
   "cell_type": "markdown",
   "metadata": {},
   "source": [
    "## Creating contingency tables"
   ]
  },
  {
   "cell_type": "markdown",
   "metadata": {},
   "source": [
    "### using pd.crosstab to match various categorical frequency distribution"
   ]
  },
  {
   "cell_type": "code",
   "execution_count": 12,
   "metadata": {},
   "outputs": [
    {
     "name": "stdout",
     "output_type": "stream",
     "text": [
      "petal length (cm)  tiny  small  average  big\n",
      "group                                       \n",
      "setosa               44      6        0    0\n",
      "versicolor            0     25       25    0\n",
      "virginica             0      0       16   34\n"
     ]
    }
   ],
   "source": [
    "# matching the group variable from the original dataframe and \n",
    "# petal length (cm) variable from the binned dataframe\n",
    "print(pd.crosstab(iris_dataframe['group'],\n",
    "                  iris_binned['petal length (cm)']))"
   ]
  },
  {
   "cell_type": "code",
   "execution_count": null,
   "metadata": {},
   "outputs": [],
   "source": []
  },
  {
   "cell_type": "markdown",
   "metadata": {},
   "source": [
    "# Creating Applied Visualization for EDA"
   ]
  },
  {
   "cell_type": "markdown",
   "metadata": {},
   "source": [
    "## Inspecting boxplots"
   ]
  },
  {
   "cell_type": "markdown",
   "metadata": {},
   "source": [
    "### creating boxplot of every variables in a DF"
   ]
  },
  {
   "cell_type": "code",
   "execution_count": 13,
   "metadata": {},
   "outputs": [
    {
     "data": {
      "image/png": "[encoded data removed]",
      "text/plain": [
       "<Figure size 432x288 with 1 Axes>"
      ]
     },
     "metadata": {
      "needs_background": "light"
     },
     "output_type": "display_data"
    }
   ],
   "source": [
    "# using boxplot() from pandas\n",
    "boxplots = iris_dataframe.boxplot(fontsize=9)"
   ]
  },
  {
   "cell_type": "markdown",
   "metadata": {},
   "source": [
    "## creating a boxplot of a variable by a group"
   ]
  },
  {
   "cell_type": "code",
   "execution_count": 14,
   "metadata": {},
   "outputs": [
    {
     "data": {
      "image/png": "[encoded data removed]",
      "text/plain": [
       "<Figure size 432x288 with 1 Axes>"
      ]
     },
     "metadata": {
      "needs_background": "light"
     },
     "output_type": "display_data"
    }
   ],
   "source": [
    "import matplotlib.pyplot as plt\n",
    "# column para. used to determine which variable used as y-axis\n",
    "# by para. used to determine which variable used as x-axos\n",
    "boxplot = iris_dataframe.boxplot(column='petal length (cm)',\n",
    "                                 by='group', fontsize=10)\n",
    "# used to conceal the unnecessary title\n",
    "plt.suptitle(\"\")\n",
    "plt.show()"
   ]
  },
  {
   "cell_type": "markdown",
   "metadata": {},
   "source": [
    "## Performing t-test after boxplots"
   ]
  },
  {
   "cell_type": "markdown",
   "metadata": {},
   "source": [
    "### showing var. of each group"
   ]
  },
  {
   "cell_type": "code",
   "execution_count": 15,
   "metadata": {},
   "outputs": [
    {
     "name": "stdout",
     "output_type": "stream",
     "text": [
      "var0 0.030\n",
      "var1 0.221 var2 0.221 \n"
     ]
    }
   ],
   "source": [
    "from scipy.stats import ttest_ind\n",
    "# creating a series of boolean value according to the group variable \n",
    "group0 = iris_dataframe['group'] == 'setosa'\n",
    "group1 = iris_dataframe['group'] == 'versicolor'\n",
    "group2 = iris_dataframe['group'] == 'virginica'\n",
    "# assign petal length (cm) values to a variable\n",
    "variable = iris_dataframe['petal length (cm)']\n",
    "# print the variance of each groups' variable values\n",
    "print(f'var0 {variable[group0].var():.3f}')\n",
    "print(f'var1 {variable[group1].var():.3f} var2 {variable[group1].var():.3f} ')"
   ]
  },
  {
   "cell_type": "markdown",
   "metadata": {},
   "source": [
    "### performing t-test using scipy.stats"
   ]
  },
  {
   "cell_type": "code",
   "execution_count": 16,
   "metadata": {},
   "outputs": [
    {
     "name": "stdout",
     "output_type": "stream",
     "text": [
      "t statistic -3.206 p-value 0.002\n"
     ]
    }
   ],
   "source": [
    "# using petal width variable\n",
    "variable = iris_dataframe['sepal width (cm)']\n",
    "# 1st and 2nd para. is the groups you want to test\n",
    "# axis para. is which axis you want to worked with\n",
    "# equal_var para. is to choose which type of test you want to perform\n",
    "# according whether the variance is equal or nah\n",
    "t, pvalue = ttest_ind(variable[group1], variable[group2],\n",
    "                      axis=0, equal_var=False)\n",
    "\n",
    "print(f't statistic {t:.3f} p-value {pvalue:.3f}')"
   ]
  },
  {
   "cell_type": "markdown",
   "metadata": {},
   "source": [
    "### performing ANOVA test using scipy.stats"
   ]
  },
  {
   "cell_type": "code",
   "execution_count": 17,
   "metadata": {},
   "outputs": [
    {
     "name": "stdout",
     "output_type": "stream",
     "text": [
      "One-way ANOVA F-value 49.160 p-value 0.000\n"
     ]
    }
   ],
   "source": [
    "from scipy.stats import f_oneway\n",
    "variable = iris_dataframe['sepal width (cm)']\n",
    "f, pvalue = f_oneway(variable[group0],\n",
    "                     variable[group1],\n",
    "                     variable[group2])\n",
    "\n",
    "print(f'One-way ANOVA F-value {f:.3f} p-value {pvalue:.3f}')"
   ]
  },
  {
   "cell_type": "markdown",
   "metadata": {},
   "source": [
    "## Observing parallel coordinates"
   ]
  },
  {
   "cell_type": "markdown",
   "metadata": {},
   "source": [
    "### using parallel coordinates with pandas.plotting"
   ]
  },
  {
   "cell_type": "code",
   "execution_count": 18,
   "metadata": {},
   "outputs": [
    {
     "data": {
      "image/png": "[encoded data removed]",
      "text/plain": [
       "<Figure size 432x288 with 1 Axes>"
      ]
     },
     "metadata": {
      "needs_background": "light"
     },
     "output_type": "display_data"
    }
   ],
   "source": [
    "from pandas.plotting import parallel_coordinates\n",
    "# assign the grouping classification to a new variable/feature\n",
    "iris_dataframe['group'] = iris.target\n",
    "# create a new variable that contains the name group classification\n",
    "iris_dataframe['labels'] = [iris.target_names[k]\n",
    "                            for k in iris_dataframe['group']]\n",
    "# 1st para. is the dataframe you want to plot\n",
    "# 2nd para. is the variable you wanted to be the differentioator\n",
    "pll = parallel_coordinates(iris_dataframe, 'labels') "
   ]
  },
  {
   "cell_type": "markdown",
   "metadata": {},
   "source": [
    "## Graphing distributions"
   ]
  },
  {
   "cell_type": "markdown",
   "metadata": {},
   "source": [
    "### Create a curve using pandas"
   ]
  },
  {
   "cell_type": "code",
   "execution_count": 19,
   "metadata": {},
   "outputs": [
    {
     "data": {
      "image/png": "[encoded data removed]",
      "text/plain": [
       "<Figure size 432x288 with 1 Axes>"
      ]
     },
     "metadata": {
      "needs_background": "light"
     },
     "output_type": "display_data"
    }
   ],
   "source": [
    "# creating a variable that consist of the table's variable name\n",
    "cols = iris_dataframe.columns[:4]\n",
    "# plotting the distirbution of each variable\n",
    "# kind para. determines which type of plot you want to plot\n",
    "densityplot = iris_dataframe[cols].plot(kind='density')"
   ]
  },
  {
   "cell_type": "markdown",
   "metadata": {},
   "source": [
    "### plotting histogram using pandas"
   ]
  },
  {
   "cell_type": "code",
   "execution_count": 20,
   "metadata": {},
   "outputs": [
    {
     "data": {
      "image/png": "[encoded data removed]",
      "text/plain": [
       "<Figure size 432x288 with 1 Axes>"
      ]
     },
     "metadata": {
      "needs_background": "light"
     },
     "output_type": "display_data"
    }
   ],
   "source": [
    "variable = iris_dataframe['petal length (cm)']\n",
    "# plotting the histogram of petal length (cm) variable\n",
    "single_distribution = variable.plot(kind='hist')"
   ]
  },
  {
   "cell_type": "markdown",
   "metadata": {},
   "source": [
    "## Plotting scatterplots"
   ]
  },
  {
   "cell_type": "markdown",
   "metadata": {},
   "source": [
    "### plotting scatterplot using pandas"
   ]
  },
  {
   "cell_type": "code",
   "execution_count": 21,
   "metadata": {},
   "outputs": [
    {
     "data": {
      "image/png": "[encoded data removed]",
      "text/plain": [
       "<Figure size 432x288 with 1 Axes>"
      ]
     },
     "metadata": {
      "needs_background": "light"
     },
     "output_type": "display_data"
    }
   ],
   "source": [
    "# create a dict consist of int as the key and colors as its values\n",
    "palette = {0: 'red', 1: 'green', 2: 'blue'}\n",
    "# create a list of colors that corresponded to the variable group \n",
    "colors = [palette[i] for i in iris_dataframe['group']]\n",
    "# plot the scatterplot\n",
    "# x para. is the x-axis\n",
    "# y para. is the y-axis\n",
    "# c para. is the color of each point\n",
    "simple_scatterplot = iris_dataframe.plot(\n",
    "                kind='scatter', x='petal length (cm)', \n",
    "                y='petal width (cm)', c=colors)"
   ]
  },
  {
   "cell_type": "markdown",
   "metadata": {},
   "source": [
    "### creating a matrix of scatterplot with pandas"
   ]
  },
  {
   "cell_type": "code",
   "execution_count": 22,
   "metadata": {},
   "outputs": [
    {
     "data": {
      "image/png": "[encoded data removed]",
      "text/plain": [
       "<Figure size 432x432 with 25 Axes>"
      ]
     },
     "metadata": {
      "needs_background": "light"
     },
     "output_type": "display_data"
    }
   ],
   "source": [
    "from pandas.plotting import scatter_matrix\n",
    "palette = {0: 'red', 1: 'green', 2: 'blue'} \n",
    "colors = [palette[i] for i in iris_dataframe['group']]\n",
    "# creating the matrix of scatterplots\n",
    "# 1st para. is the dataframe you want to be used\n",
    "# figsize para. determines the size of the figure produced\n",
    "# diagonal para. shows either the density curve or histogram of \n",
    "# the respectable variable\n",
    "matrix_of_scatterplots = scatter_matrix(\n",
    "    iris_dataframe, figsize=(6, 6),\n",
    "    c=colors, diagonal='kde')\n"
   ]
  },
  {
   "cell_type": "code",
   "execution_count": null,
   "metadata": {},
   "outputs": [],
   "source": []
  },
  {
   "cell_type": "markdown",
   "metadata": {},
   "source": [
    "# Understanding Correlation "
   ]
  },
  {
   "cell_type": "markdown",
   "metadata": {},
   "source": [
    "## Using covariance and correlation"
   ]
  },
  {
   "cell_type": "markdown",
   "metadata": {},
   "source": [
    "### creating covariance matrix with pandas"
   ]
  },
  {
   "cell_type": "code",
   "execution_count": 23,
   "metadata": {},
   "outputs": [
    {
     "data": {
      "text/html": [
       "<div>\n",
       "<style scoped>\n",
       "    .dataframe tbody tr th:only-of-type {\n",
       "        vertical-align: middle;\n",
       "    }\n",
       "\n",
       "    .dataframe tbody tr th {\n",
       "        vertical-align: top;\n",
       "    }\n",
       "\n",
       "    .dataframe thead th {\n",
       "        text-align: right;\n",
       "    }\n",
       "</style>\n",
       "<table border=\"1\" class=\"dataframe\">\n",
       "  <thead>\n",
       "    <tr style=\"text-align: right;\">\n",
       "      <th></th>\n",
       "      <th>sepal length (cm)</th>\n",
       "      <th>sepal width (cm)</th>\n",
       "      <th>petal length (cm)</th>\n",
       "      <th>petal width (cm)</th>\n",
       "      <th>group</th>\n",
       "    </tr>\n",
       "  </thead>\n",
       "  <tbody>\n",
       "    <tr>\n",
       "      <th>sepal length (cm)</th>\n",
       "      <td>0.685694</td>\n",
       "      <td>-0.042434</td>\n",
       "      <td>1.274315</td>\n",
       "      <td>0.516271</td>\n",
       "      <td>0.530872</td>\n",
       "    </tr>\n",
       "    <tr>\n",
       "      <th>sepal width (cm)</th>\n",
       "      <td>-0.042434</td>\n",
       "      <td>0.189979</td>\n",
       "      <td>-0.329656</td>\n",
       "      <td>-0.121639</td>\n",
       "      <td>-0.152349</td>\n",
       "    </tr>\n",
       "    <tr>\n",
       "      <th>petal length (cm)</th>\n",
       "      <td>1.274315</td>\n",
       "      <td>-0.329656</td>\n",
       "      <td>3.116278</td>\n",
       "      <td>1.295609</td>\n",
       "      <td>1.372483</td>\n",
       "    </tr>\n",
       "    <tr>\n",
       "      <th>petal width (cm)</th>\n",
       "      <td>0.516271</td>\n",
       "      <td>-0.121639</td>\n",
       "      <td>1.295609</td>\n",
       "      <td>0.581006</td>\n",
       "      <td>0.597315</td>\n",
       "    </tr>\n",
       "    <tr>\n",
       "      <th>group</th>\n",
       "      <td>0.530872</td>\n",
       "      <td>-0.152349</td>\n",
       "      <td>1.372483</td>\n",
       "      <td>0.597315</td>\n",
       "      <td>0.671141</td>\n",
       "    </tr>\n",
       "  </tbody>\n",
       "</table>\n",
       "</div>"
      ],
      "text/plain": [
       "                   sepal length (cm)  sepal width (cm)  petal length (cm)  \\\n",
       "sepal length (cm)           0.685694         -0.042434           1.274315   \n",
       "sepal width (cm)           -0.042434          0.189979          -0.329656   \n",
       "petal length (cm)           1.274315         -0.329656           3.116278   \n",
       "petal width (cm)            0.516271         -0.121639           1.295609   \n",
       "group                       0.530872         -0.152349           1.372483   \n",
       "\n",
       "                   petal width (cm)     group  \n",
       "sepal length (cm)          0.516271  0.530872  \n",
       "sepal width (cm)          -0.121639 -0.152349  \n",
       "petal length (cm)          1.295609  1.372483  \n",
       "petal width (cm)           0.581006  0.597315  \n",
       "group                      0.597315  0.671141  "
      ]
     },
     "execution_count": 23,
     "metadata": {},
     "output_type": "execute_result"
    }
   ],
   "source": [
    "# using cov() to compute covariance\n",
    "iris_dataframe.cov()"
   ]
  },
  {
   "cell_type": "markdown",
   "metadata": {},
   "source": [
    "### examine correlation matrix with pandas"
   ]
  },
  {
   "cell_type": "code",
   "execution_count": 24,
   "metadata": {},
   "outputs": [
    {
     "data": {
      "text/html": [
       "<div>\n",
       "<style scoped>\n",
       "    .dataframe tbody tr th:only-of-type {\n",
       "        vertical-align: middle;\n",
       "    }\n",
       "\n",
       "    .dataframe tbody tr th {\n",
       "        vertical-align: top;\n",
       "    }\n",
       "\n",
       "    .dataframe thead th {\n",
       "        text-align: right;\n",
       "    }\n",
       "</style>\n",
       "<table border=\"1\" class=\"dataframe\">\n",
       "  <thead>\n",
       "    <tr style=\"text-align: right;\">\n",
       "      <th></th>\n",
       "      <th>sepal length (cm)</th>\n",
       "      <th>sepal width (cm)</th>\n",
       "      <th>petal length (cm)</th>\n",
       "      <th>petal width (cm)</th>\n",
       "      <th>group</th>\n",
       "    </tr>\n",
       "  </thead>\n",
       "  <tbody>\n",
       "    <tr>\n",
       "      <th>sepal length (cm)</th>\n",
       "      <td>1.000000</td>\n",
       "      <td>-0.117570</td>\n",
       "      <td>0.871754</td>\n",
       "      <td>0.817941</td>\n",
       "      <td>0.782561</td>\n",
       "    </tr>\n",
       "    <tr>\n",
       "      <th>sepal width (cm)</th>\n",
       "      <td>-0.117570</td>\n",
       "      <td>1.000000</td>\n",
       "      <td>-0.428440</td>\n",
       "      <td>-0.366126</td>\n",
       "      <td>-0.426658</td>\n",
       "    </tr>\n",
       "    <tr>\n",
       "      <th>petal length (cm)</th>\n",
       "      <td>0.871754</td>\n",
       "      <td>-0.428440</td>\n",
       "      <td>1.000000</td>\n",
       "      <td>0.962865</td>\n",
       "      <td>0.949035</td>\n",
       "    </tr>\n",
       "    <tr>\n",
       "      <th>petal width (cm)</th>\n",
       "      <td>0.817941</td>\n",
       "      <td>-0.366126</td>\n",
       "      <td>0.962865</td>\n",
       "      <td>1.000000</td>\n",
       "      <td>0.956547</td>\n",
       "    </tr>\n",
       "    <tr>\n",
       "      <th>group</th>\n",
       "      <td>0.782561</td>\n",
       "      <td>-0.426658</td>\n",
       "      <td>0.949035</td>\n",
       "      <td>0.956547</td>\n",
       "      <td>1.000000</td>\n",
       "    </tr>\n",
       "  </tbody>\n",
       "</table>\n",
       "</div>"
      ],
      "text/plain": [
       "                   sepal length (cm)  sepal width (cm)  petal length (cm)  \\\n",
       "sepal length (cm)           1.000000         -0.117570           0.871754   \n",
       "sepal width (cm)           -0.117570          1.000000          -0.428440   \n",
       "petal length (cm)           0.871754         -0.428440           1.000000   \n",
       "petal width (cm)            0.817941         -0.366126           0.962865   \n",
       "group                       0.782561         -0.426658           0.949035   \n",
       "\n",
       "                   petal width (cm)     group  \n",
       "sepal length (cm)          0.817941  0.782561  \n",
       "sepal width (cm)          -0.366126 -0.426658  \n",
       "petal length (cm)          0.962865  0.949035  \n",
       "petal width (cm)           1.000000  0.956547  \n",
       "group                      0.956547  1.000000  "
      ]
     },
     "execution_count": 24,
     "metadata": {},
     "output_type": "execute_result"
    }
   ],
   "source": [
    "# using corr() to compute correlation\n",
    "iris_dataframe.corr()"
   ]
  },
  {
   "cell_type": "markdown",
   "metadata": {},
   "source": [
    "### compute covariance and correlation matrices using NumPy"
   ]
  },
  {
   "cell_type": "code",
   "execution_count": 25,
   "metadata": {},
   "outputs": [
    {
     "name": "stdout",
     "output_type": "stream",
     "text": [
      "[[ 0.68569351 -0.042434    1.27431544  0.51627069]\n",
      " [-0.042434    0.18997942 -0.32965638 -0.12163937]\n",
      " [ 1.27431544 -0.32965638  3.11627785  1.2956094 ]\n",
      " [ 0.51627069 -0.12163937  1.2956094   0.58100626]]\n",
      "[[ 1.         -0.11756978  0.87175378  0.81794113]\n",
      " [-0.11756978  1.         -0.4284401  -0.36612593]\n",
      " [ 0.87175378 -0.4284401   1.          0.96286543]\n",
      " [ 0.81794113 -0.36612593  0.96286543  1.        ]]\n"
     ]
    }
   ],
   "source": [
    "# compute covariance and correlation\n",
    "# rowvar para. determines which row will be the variable\n",
    "cov_matrix = np.cov(iris_nparray, rowvar=0)\n",
    "corr_matrix = np.corrcoef(iris_nparray, rowvar=0)\n",
    "print(cov_matrix)\n",
    "print(corr_matrix)"
   ]
  },
  {
   "cell_type": "markdown",
   "metadata": {},
   "source": [
    "## Using nonparametric correlation"
   ]
  },
  {
   "cell_type": "markdown",
   "metadata": {},
   "source": [
    "### compute spearman corr (nonparametric corr) with scipy"
   ]
  },
  {
   "cell_type": "code",
   "execution_count": 26,
   "metadata": {},
   "outputs": [
    {
     "name": "stdout",
     "output_type": "stream",
     "text": [
      "Pearson r -0.118 | Spearman rho -0.167\n"
     ]
    }
   ],
   "source": [
    "from scipy.stats import spearmanr\n",
    "from scipy.stats import pearsonr\n",
    "\n",
    "a = iris_dataframe['sepal length (cm)']\n",
    "b = iris_dataframe['sepal width (cm)']\n",
    "# spearmanr() and pearsonr() will return 2 values\n",
    "# 1st is the correlation coefficient\n",
    "# 2nd is the p-value\n",
    "# spearman corr usually use rho to denote its correlation\n",
    "# while peason use r\n",
    "rho_coef, rho_p = spearmanr(a, b)\n",
    "r_coef, r_p = pearsonr(a, b)\n",
    "print(f'Pearson r {r_coef:.3f} | Spearman rho {rho_coef:.3f}')\n",
    "# the result shows that both using pearson and spearman corr\n",
    "# the correlation between sepal length and width is weak"
   ]
  },
  {
   "cell_type": "markdown",
   "metadata": {},
   "source": [
    "## Considering the chi-square test for tables"
   ]
  },
  {
   "cell_type": "markdown",
   "metadata": {},
   "source": [
    "### compute chi-square statistic using SciPy"
   ]
  },
  {
   "cell_type": "code",
   "execution_count": 36,
   "metadata": {},
   "outputs": [
    {
     "name": "stdout",
     "output_type": "stream",
     "text": [
      "[[44  6  0  0]\n",
      " [ 0 25 25  0]\n",
      " [ 0  0 16 34]]\n",
      "Chi-square 212.43 p-value 0.000\n"
     ]
    }
   ],
   "source": [
    "from scipy.stats import chi2_contingency\n",
    "# creating crosstab between feature group and binned petal length\n",
    "table = pd.crosstab(iris_dataframe['group'], \n",
    "                    iris_binned['petal length (cm)'])\n",
    "print(table.values)\n",
    "# perform chi-square test and it returns\n",
    "# 1st chi-square statistic\n",
    "# 2nd p_value\n",
    "# 3rd degree of freedom\n",
    "# 4th expected frequencies \n",
    "chi2, p, dof, expected = chi2_contingency(table.values)\n",
    "print(f'Chi-square {chi2:.2f} p-value {p:.3f}')"
   ]
  },
  {
   "cell_type": "markdown",
   "metadata": {},
   "source": [
    "# Modifying Data Distributions"
   ]
  },
  {
   "cell_type": "markdown",
   "metadata": {},
   "source": [
    "## Using different statistical distributions"
   ]
  },
  {
   "cell_type": "markdown",
   "metadata": {},
   "source": [
    "## Creating a Z-score standardization"
   ]
  },
  {
   "cell_type": "markdown",
   "metadata": {},
   "source": [
    "### perform Z-score standardization using sklearn"
   ]
  },
  {
   "cell_type": "code",
   "execution_count": 43,
   "metadata": {},
   "outputs": [],
   "source": [
    "from sklearn.preprocessing import scale\n",
    "# assign a feature to a variable as a nparray\n",
    "variable = iris_dataframe['sepal width (cm)']\n",
    "# scale the variable with Z-score standardization\n",
    "stand_sepal_width = scale(variable)"
   ]
  },
  {
   "cell_type": "markdown",
   "metadata": {},
   "source": [
    "## Transforming other notable distributions"
   ]
  },
  {
   "cell_type": "code",
   "execution_count": 55,
   "metadata": {},
   "outputs": [
    {
     "name": "stdout",
     "output_type": "stream",
     "text": [
      "Transformation: x \t Pearson's r: -0.118\n",
      "Transformation: 1/x \t Pearson's r: 0.080\n",
      "Transformation: x**2 \t Pearson's r: -0.131\n",
      "Transformation: x**3 \t Pearson's r: -0.140\n",
      "Transformation: log(x) \t Pearson's r: -0.100\n",
      "Transformation: sqrt(x) \t Pearson's r: -0.109\n",
      "Transformation: exp(x) \t Pearson's r: -0.142\n",
      "Transformation: log(1/x) \t Pearson's r: 0.100\n"
     ]
    }
   ],
   "source": [
    "from scipy.stats.stats import pearsonr\n",
    "transformations = {'x': lambda x: x,\n",
    "                   '1/x': lambda x: 1/x,\n",
    "                   'x**2': lambda x: x**2,\n",
    "                   'x**3': lambda x: x**3, \n",
    "                   'log(x)': lambda x: np.log(x),\n",
    "                   'sqrt(x)': lambda x: np.sqrt(x),\n",
    "                   'exp(x)': lambda x: np.exp(x), \n",
    "                   'log(1/x)': lambda x: np.log(1/x)}\n",
    "a = iris_dataframe['sepal length (cm)']\n",
    "b = iris_dataframe['sepal width (cm)']\n",
    "for transformation in transformations:\n",
    "    b_transformed = transformations[transformation](b)\n",
    "    r_coef, p_value = pearsonr(a, b_transformed)\n",
    "    print(f'Transformation: {transformation} \\t Pearson\\'s r: {r_coef:.3f}')"
   ]
  }
 ],
 "metadata": {
  "kernelspec": {
   "display_name": "Python 3",
   "language": "python",
   "name": "python3"
  },
  "language_info": {
   "codemirror_mode": {
    "name": "ipython",
    "version": 3
   },
   "file_extension": ".py",
   "mimetype": "text/x-python",
   "name": "python",
   "nbconvert_exporter": "python",
   "pygments_lexer": "ipython3",
   "version": "3.7.6"
  }
 },
 "nbformat": 4,
 "nbformat_minor": 4
}
